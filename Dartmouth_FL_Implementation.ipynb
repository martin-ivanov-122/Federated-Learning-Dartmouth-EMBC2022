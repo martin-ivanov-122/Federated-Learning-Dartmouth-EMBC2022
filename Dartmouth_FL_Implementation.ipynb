{
 "cells": [
  {
   "cell_type": "markdown",
   "id": "913bc926-dc82-4004-b8bb-4d2e9e33bd99",
   "metadata": {
    "id": "913bc926-dc82-4004-b8bb-4d2e9e33bd99"
   },
   "source": [
    "# Install Libraries"
   ]
  },
  {
   "cell_type": "code",
   "execution_count": null,
   "id": "55c3f6cf-61a1-4d0a-bc6b-99046bea0600",
   "metadata": {
    "id": "55c3f6cf-61a1-4d0a-bc6b-99046bea0600",
    "scrolled": true
   },
   "outputs": [],
   "source": [
    "!pip install opencv-python\n",
    "!pip install imutils\n",
    "!pip install tensorflow"
   ]
  },
  {
   "cell_type": "markdown",
   "id": "ede890ba-acca-4515-a55f-b2d342a02686",
   "metadata": {
    "id": "ede890ba-acca-4515-a55f-b2d342a02686"
   },
   "source": [
    "# Import Libraries"
   ]
  },
  {
   "cell_type": "code",
   "execution_count": null,
   "id": "d0142576-c94a-4768-84fa-882c88fb3a41",
   "metadata": {
    "id": "d0142576-c94a-4768-84fa-882c88fb3a41"
   },
   "outputs": [],
   "source": [
    "# Import Libraries\n",
    "import numpy as np\n",
    "import random\n",
    "import cv2\n",
    "import os\n",
    "from imutils import paths\n",
    "from sklearn.model_selection import train_test_split\n",
    "from sklearn.preprocessing import LabelBinarizer\n",
    "from sklearn.model_selection import train_test_split\n",
    "from sklearn.utils import shuffle\n",
    "from sklearn.metrics import accuracy_score\n",
    "\n",
    "# Import Tensorflow\n",
    "import tensorflow as tf\n",
    "from tensorflow.keras.models import Sequential\n",
    "from tensorflow.keras.layers import Conv2D\n",
    "from tensorflow.keras.layers import MaxPooling2D\n",
    "from tensorflow.keras.layers import Activation\n",
    "from tensorflow.keras.layers import Flatten\n",
    "from tensorflow.keras.layers import Dense\n",
    "from tensorflow.keras.optimizers import SGD\n",
    "from tensorflow.keras import backend as K\n",
    "\n",
    "import os \n",
    "from fl_utils import *"
   ]
  },
  {
   "cell_type": "code",
   "execution_count": 1,
   "id": "87671998",
   "metadata": {},
   "outputs": [],
   "source": [
    "from functions import *"
   ]
  },
  {
   "cell_type": "markdown",
   "id": "ad12aea0-e84e-4bdb-9b7b-88ac058edbed",
   "metadata": {
    "id": "ad12aea0-e84e-4bdb-9b7b-88ac058edbed"
   },
   "source": [
    "# Data Set-Up - Loading the data"
   ]
  },
  {
   "cell_type": "markdown",
   "id": "eb2d67f1",
   "metadata": {},
   "source": [
    "### Features"
   ]
  },
  {
   "cell_type": "code",
   "execution_count": 2,
   "id": "818e8892-ddb4-4bd8-9e81-98880cc7f8d5",
   "metadata": {
    "id": "818e8892-ddb4-4bd8-9e81-98880cc7f8d5",
    "outputId": "1c6b5bf1-6f56-4372-9b90-81ef15a854fb"
   },
   "outputs": [],
   "source": [
    "filename = 'loc_view.txt'\n",
    "\n",
    "location_view = load_file (filename)\n",
    "\n",
    "\n",
    "# Load other files as well ......\n"
   ]
  },
  {
   "cell_type": "markdown",
   "id": "9e2ed626",
   "metadata": {},
   "source": [
    "### Label"
   ]
  },
  {
   "cell_type": "code",
   "execution_count": 3,
   "id": "9bb821c6",
   "metadata": {},
   "outputs": [],
   "source": [
    "filename = 'phq_score.txt'\n",
    "\n",
    "label = load_file (filename)"
   ]
  },
  {
   "cell_type": "markdown",
   "id": "8eef1285-6e3a-44d5-9918-22e5e613a80c",
   "metadata": {
    "id": "8eef1285-6e3a-44d5-9918-22e5e613a80c"
   },
   "source": [
    "# Test-Train Split"
   ]
  },
  {
   "cell_type": "code",
   "execution_count": null,
   "id": "3f78a970-fc58-48eb-bc40-5b8f71cd52b7",
   "metadata": {
    "id": "3f78a970-fc58-48eb-bc40-5b8f71cd52b7"
   },
   "outputs": [],
   "source": [
    "#split data into training and test set\n",
    "X_train, X_test, y_train, y_test = train_test_split(image_list, \n",
    "                                                    label_list, \n",
    "                                                    test_size=0.1, \n",
    "                                                    random_state=42)"
   ]
  },
  {
   "cell_type": "code",
   "execution_count": null,
   "id": "e884932f-bf6a-4a9b-b1b5-a95410351f7e",
   "metadata": {
    "id": "e884932f-bf6a-4a9b-b1b5-a95410351f7e",
    "outputId": "cc7607d7-8f70-40d1-94ae-496db2fb6a4e"
   },
   "outputs": [],
   "source": [
    "print(label_list)"
   ]
  },
  {
   "cell_type": "markdown",
   "id": "19be9782-518e-4762-a72e-40956766ebc2",
   "metadata": {
    "id": "19be9782-518e-4762-a72e-40956766ebc2"
   },
   "source": [
    "# Federated Learning Set-up"
   ]
  },
  {
   "cell_type": "markdown",
   "id": "3e048e2e-86e3-42e6-aedf-e95e21df218f",
   "metadata": {
    "id": "3e048e2e-86e3-42e6-aedf-e95e21df218f"
   },
   "source": [
    "## Create Clients"
   ]
  },
  {
   "cell_type": "code",
   "execution_count": null,
   "id": "bf04e794-5f71-4055-b29a-5bf8df8ebc91",
   "metadata": {
    "id": "bf04e794-5f71-4055-b29a-5bf8df8ebc91"
   },
   "outputs": [],
   "source": [
    "#create clients\n",
    "clients = create_clients(X_train, y_train, num_clients=10, initial='client')"
   ]
  },
  {
   "cell_type": "markdown",
   "id": "9e27e850-b2d9-4320-bef3-91bfee3f82ca",
   "metadata": {
    "id": "9e27e850-b2d9-4320-bef3-91bfee3f82ca"
   },
   "source": [
    "## Batch Cliets"
   ]
  },
  {
   "cell_type": "code",
   "execution_count": null,
   "id": "3dd54154-d154-4f15-92a0-1bd52f13e7cd",
   "metadata": {
    "id": "3dd54154-d154-4f15-92a0-1bd52f13e7cd"
   },
   "outputs": [],
   "source": [
    "#process and batch the training data for each client\n",
    "clients_batched = dict()\n",
    "for (client_name, data) in clients.items():\n",
    "    clients_batched[client_name] = batch_data(data)\n",
    "    \n",
    "#process and batch the test set  \n",
    "test_batched = tf.data.Dataset.from_tensor_slices((X_test, y_test)).batch(len(y_test))"
   ]
  },
  {
   "cell_type": "code",
   "execution_count": null,
   "id": "cb0c5223-fda5-4dd3-bfcf-b4380ff11170",
   "metadata": {
    "id": "cb0c5223-fda5-4dd3-bfcf-b4380ff11170",
    "outputId": "433dc431-5798-4ca7-bda1-34c0b5421354"
   },
   "outputs": [],
   "source": [
    "print(test_batched)"
   ]
  },
  {
   "cell_type": "markdown",
   "id": "039bba31-0761-4e29-a2e5-27f35e83438e",
   "metadata": {
    "id": "039bba31-0761-4e29-a2e5-27f35e83438e"
   },
   "source": [
    "## 3 Layer MLP (multi-layer perception) model"
   ]
  },
  {
   "cell_type": "code",
   "execution_count": null,
   "id": "7cce1670-5c73-4240-8b92-50f18f0136fa",
   "metadata": {
    "id": "7cce1670-5c73-4240-8b92-50f18f0136fa"
   },
   "outputs": [],
   "source": [
    "class SimpleMLP:\n",
    "    @staticmethod\n",
    "    def build(shape, classes):\n",
    "        model = Sequential()\n",
    "        model.add(Dense(200, input_shape=(shape,)))\n",
    "        model.add(Activation(\"relu\"))\n",
    "        model.add(Dense(200))\n",
    "        model.add(Activation(\"relu\"))\n",
    "        model.add(Dense(classes))\n",
    "        model.add(Activation(\"softmax\"))\n",
    "        return model"
   ]
  },
  {
   "cell_type": "markdown",
   "id": "736c1185-a4c7-4a54-a6b5-a2dabfff585b",
   "metadata": {
    "id": "736c1185-a4c7-4a54-a6b5-a2dabfff585b"
   },
   "source": [
    "## Declearing model optimizer, loss function and a metric"
   ]
  },
  {
   "cell_type": "code",
   "execution_count": null,
   "id": "992f9917-d267-45d7-b56f-4875459d2e7e",
   "metadata": {
    "id": "992f9917-d267-45d7-b56f-4875459d2e7e"
   },
   "outputs": [],
   "source": [
    "#Learning Rate\n",
    "lr = 0.01 \n",
    "\n",
    "# number global epochs (aggregations)\n",
    "comms_round = 100\n",
    "\n",
    "#Loss Function\n",
    "loss='categorical_crossentropy'\n",
    "\n",
    "#Evaluation Metric\n",
    "metrics = ['accuracy']\n",
    "\n",
    "#Model optimization using SGD (Stochastic Gradient Descent)\n",
    "optimizer = SGD(learning_rate=lr, decay=lr / comms_round, momentum=0.9)              "
   ]
  },
  {
   "cell_type": "markdown",
   "id": "5caeee68-a8bd-4550-ac36-318544546770",
   "metadata": {
    "id": "5caeee68-a8bd-4550-ac36-318544546770"
   },
   "source": [
    "# Model Aggregation (Federated Averaging) and Testing "
   ]
  },
  {
   "cell_type": "code",
   "execution_count": null,
   "id": "6ac02808-0dc4-4a98-94fa-63b1c1553685",
   "metadata": {
    "id": "6ac02808-0dc4-4a98-94fa-63b1c1553685",
    "outputId": "988d0b82-5bf5-4609-dbba-3744a0633d16"
   },
   "outputs": [],
   "source": [
    "#initialize global model\n",
    "smlp_global = SimpleMLP()\n",
    "global_model = smlp_global.build(784, 10)\n",
    "        \n",
    "#commence global training loop\n",
    "for comm_round in range(comms_round):\n",
    "            \n",
    "    # get the global model's weights - will serve as the initial weights for all local models\n",
    "    global_weights = global_model.get_weights()\n",
    "    \n",
    "    #initial list to collect local model weights after scalling\n",
    "    scaled_local_weight_list = list()\n",
    "\n",
    "    #randomize client data - using keys\n",
    "    client_names= list(clients_batched.keys())\n",
    "    random.shuffle(client_names)\n",
    "    \n",
    "    #loop through each client and create new local model\n",
    "    for client in client_names:\n",
    "        smlp_local = SimpleMLP()\n",
    "        local_model = smlp_local.build(784, 10)\n",
    "        local_model.compile(loss=loss, \n",
    "                      optimizer=optimizer, \n",
    "                      metrics=metrics)\n",
    "        \n",
    "        #set local model weight to the weight of the global model\n",
    "        local_model.set_weights(global_weights)\n",
    "        \n",
    "        #fit local model with client's data\n",
    "        local_model.fit(clients_batched[client], epochs=1, verbose=0)\n",
    "        \n",
    "        #scale the model weights and add to list\n",
    "        scaling_factor = weight_scalling_factor(clients_batched, client)\n",
    "        scaled_weights = scale_model_weights(local_model.get_weights(), scaling_factor)\n",
    "        scaled_local_weight_list.append(scaled_weights)\n",
    "        \n",
    "        #clear session to free memory after each communication round\n",
    "        K.clear_session()\n",
    "        \n",
    "    #to get the average over all the local model, we simply take the sum of the scaled weights\n",
    "    average_weights = sum_scaled_weights(scaled_local_weight_list)\n",
    "    \n",
    "    #update global model \n",
    "    global_model.set_weights(average_weights)\n",
    "\n",
    "    #test global model and print out metrics after each communications round\n",
    "    for(X_test, Y_test) in test_batched:\n",
    "        global_acc, global_loss = test_model(X_test, Y_test, global_model, comm_round)"
   ]
  },
  {
   "cell_type": "markdown",
   "id": "a5d9e1f6-9784-4380-8ee9-aed1300081b7",
   "metadata": {
    "id": "a5d9e1f6-9784-4380-8ee9-aed1300081b7"
   },
   "source": [
    "# SGD Comparison to Federated Learning Accuracy"
   ]
  },
  {
   "cell_type": "code",
   "execution_count": null,
   "id": "62e878d5-a06d-4e9b-9c35-de3409366f18",
   "metadata": {
    "id": "62e878d5-a06d-4e9b-9c35-de3409366f18",
    "outputId": "bf165c5f-7b11-4abe-d128-04e26b728da9"
   },
   "outputs": [],
   "source": [
    "#Creating SGD Dataset with all hyperparameters equal to that of FL, however with a batch size of 320 as there are not multiple independent models or multiple clients to have said models\n",
    "SGD_dataset = tf.data.Dataset.from_tensor_slices((X_train, y_train)).shuffle(len(y_train)).batch(320) \n",
    "\n",
    "#Initializing Model\n",
    "smlp_SGD = SimpleMLP()\n",
    "\n",
    "#Generating model with a shape of 784, and 10 classes\n",
    "SGD_model = smlp_SGD.build(784, 10) \n",
    "\n",
    "#Compilation of Model using model paramaters\n",
    "SGD_model.compile(loss=loss, optimizer=optimizer, metrics=metrics)\n",
    "\n",
    "# fit the SGD training data to model\n",
    "_ = SGD_model.fit(SGD_dataset, epochs=100, verbose=0)\n",
    "\n",
    "#test the SGD global model and print out metrics\n",
    "for(X_test, Y_test) in test_batched:\n",
    "        SGD_acc, SGD_loss = test_model(X_test, Y_test, SGD_model, 1)"
   ]
  },
  {
   "cell_type": "code",
   "execution_count": null,
   "id": "00a683af-063d-442a-a3be-4d2b4182b053",
   "metadata": {
    "id": "00a683af-063d-442a-a3be-4d2b4182b053"
   },
   "outputs": [],
   "source": []
  }
 ],
 "metadata": {
  "colab": {
   "name": "FLExample_Implementation_Martin_Ivanov.ipynb",
   "provenance": []
  },
  "kernelspec": {
   "display_name": "Python 3 (ipykernel)",
   "language": "python",
   "name": "python3"
  },
  "language_info": {
   "codemirror_mode": {
    "name": "ipython",
    "version": 3
   },
   "file_extension": ".py",
   "mimetype": "text/x-python",
   "name": "python",
   "nbconvert_exporter": "python",
   "pygments_lexer": "ipython3",
   "version": "3.8.10"
  }
 },
 "nbformat": 4,
 "nbformat_minor": 5
}
