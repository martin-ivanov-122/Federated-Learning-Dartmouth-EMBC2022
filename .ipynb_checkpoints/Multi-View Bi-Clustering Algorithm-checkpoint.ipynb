{
 "cells": [
  {
   "cell_type": "markdown",
   "id": "3f6d4a61",
   "metadata": {},
   "source": [
    "# MVBC Alg"
   ]
  },
  {
   "cell_type": "markdown",
   "id": "8520583b",
   "metadata": {},
   "source": [
    "## Functions and Libraries\n"
   ]
  },
  {
   "cell_type": "code",
   "execution_count": 7,
   "id": "e66babb0",
   "metadata": {},
   "outputs": [],
   "source": [
    "import numpy as np\n",
    "import matplotlib.pyplot as plt\n",
    "import pandas as pd\n",
    "from scipy.io import loadmat"
   ]
  },
  {
   "cell_type": "code",
   "execution_count": null,
   "id": "c1310d8d",
   "metadata": {},
   "outputs": [],
   "source": [
    "def normalization (x):\n",
    "    return ((x-min(x))/(max(x)-min(x)))\n",
    "\n",
    "def objective (M,z,U,V):\n",
    "    \n",
    "    obj = 0;\n",
    "    \n",
    "    for i in range (len (M)):\n",
    "        mat =  M{i} - (U(:, i) .* z) * V{i}';            \n",
    "        obj = obj + trace(mat' * mat)\n",
    "                          \n",
    "                          \n",
    "\n",
    "\n",
    "\n",
    "\n"
   ]
  },
  {
   "cell_type": "code",
   "execution_count": 56,
   "id": "7684bbed",
   "metadata": {},
   "outputs": [],
   "source": [
    "# What is set-up in the main fct of the MATLAB file\n",
    "\n",
    "path = '/Users/binhnguyen/Documents/MATLAB/1. EMBC 2021/Project EMBC/mvscpalm'\n",
    "filename = '/M.mat'\n",
    "signal = loadmat(path+filename)\n",
    "M = signal['M'][0]\n",
    "\n",
    "'''\n",
    "signal['M'][0] # M Var\n",
    "signal['M'][0][0] # M Var First Cell\n",
    "signal['M'][0][0][0] # M Var First Cell First Row\n",
    "'''\n",
    "\n",
    "sz2 = 7\n",
    "sv2 = np.array([[5, 5, 5]]).T\n",
    "ini_v2 = 1\n"
   ]
  },
  {
   "cell_type": "code",
   "execution_count": 102,
   "id": "b28bc498",
   "metadata": {},
   "outputs": [],
   "source": [
    "# Inside the mvlrrl0 function\n",
    "\n",
    "# line 1-50\n",
    "\n",
    "maxIter = 1e03\n",
    "threshold = 1e-05\n",
    "\n",
    "M[0]\n",
    "\n",
    "n = M[0].shape[0]\n",
    "nView = len(M)\n",
    "\n",
    "d = np.zeros((nView, 1))\n",
    "z = np.ones((n,1)); # initialize z with all ones\n",
    "U = np.ones((n, nView)); # initialize u with all ones\n",
    "V = np.full([nView,1], None) \n",
    "# V = [None]*nView\n",
    "\n",
    "gamma_z = 1.2;\n",
    "gamma_u = 1.2;\n",
    "gamma_v = 1.2;\n",
    "\n"
   ]
  },
  {
   "cell_type": "code",
   "execution_count": 112,
   "id": "ab7f6526",
   "metadata": {},
   "outputs": [],
   "source": [
    "# line 51-\n",
    "\n",
    "for iView in range (nView):\n",
    "    d[iView] = M[iView].shape [1]\n",
    "    V[iView] = [np.ones ((int(d[iView]),1))]\n"
   ]
  },
  {
   "cell_type": "code",
   "execution_count": 115,
   "id": "7fdeb368",
   "metadata": {},
   "outputs": [
    {
     "data": {
      "text/plain": [
       "array([array([[1.],\n",
       "              [1.],\n",
       "              [1.],\n",
       "              [1.],\n",
       "              [1.],\n",
       "              [1.],\n",
       "              [1.],\n",
       "              [1.],\n",
       "              [1.],\n",
       "              [1.],\n",
       "              [1.],\n",
       "              [1.]])], dtype=object)"
      ]
     },
     "execution_count": 115,
     "metadata": {},
     "output_type": "execute_result"
    }
   ],
   "source": [
    "V[1]"
   ]
  },
  {
   "cell_type": "code",
   "execution_count": 98,
   "id": "8ecee61d",
   "metadata": {},
   "outputs": [
    {
     "data": {
      "text/plain": [
       "29"
      ]
     },
     "execution_count": 98,
     "metadata": {},
     "output_type": "execute_result"
    }
   ],
   "source": [
    "n"
   ]
  },
  {
   "cell_type": "code",
   "execution_count": null,
   "id": "1bf0a117",
   "metadata": {},
   "outputs": [],
   "source": []
  }
 ],
 "metadata": {
  "kernelspec": {
   "display_name": "Python 3 (ipykernel)",
   "language": "python",
   "name": "python3"
  },
  "language_info": {
   "codemirror_mode": {
    "name": "ipython",
    "version": 3
   },
   "file_extension": ".py",
   "mimetype": "text/x-python",
   "name": "python",
   "nbconvert_exporter": "python",
   "pygments_lexer": "ipython3",
   "version": "3.8.10"
  }
 },
 "nbformat": 4,
 "nbformat_minor": 5
}
