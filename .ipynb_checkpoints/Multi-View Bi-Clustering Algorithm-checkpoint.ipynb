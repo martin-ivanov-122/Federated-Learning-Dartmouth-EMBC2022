{
 "cells": [
  {
   "cell_type": "markdown",
   "id": "d14b60c5",
   "metadata": {},
   "source": [
    "# MVBC Alg"
   ]
  },
  {
   "cell_type": "markdown",
   "id": "29440dd5",
   "metadata": {},
   "source": [
    "## Functions and Libraries\n"
   ]
  },
  {
   "cell_type": "code",
   "execution_count": 67,
   "id": "de969fac",
   "metadata": {},
   "outputs": [],
   "source": [
    "import numpy as np\n",
    "import matplotlib.pyplot as plt\n",
    "import pandas as pd\n",
    "from scipy.io import loadmat"
   ]
  },
  {
   "cell_type": "code",
   "execution_count": 68,
   "id": "aa397d94",
   "metadata": {},
   "outputs": [],
   "source": [
    "def normalization (x):\n",
    "    return ((x-min(x))/(max(x)-min(x)))\n",
    "\n",
    "# def objective (M,z,U,V):\n",
    "    \n",
    "#     obj = 0;\n",
    "    \n",
    "#     for i in range (len (M)):\n",
    "#         mat =  M{i} - (U(:, i) .* z) * V{i}';            \n",
    "#         obj = obj + trace(mat' * mat)\n",
    "                          "
   ]
  },
  {
   "cell_type": "code",
   "execution_count": 69,
   "id": "765d66b3",
   "metadata": {},
   "outputs": [],
   "source": [
    "# What is set-up in the main fct of the MATLAB file\n",
    "\n",
    "path = '/Users/binhnguyen/Documents/MATLAB/1. EMBC 2021/Project EMBC/mvscpalm'\n",
    "filename = '/M.mat'\n",
    "signal = loadmat(path+filename)\n",
    "M = signal['M'][0]\n",
    "\n",
    "'''\n",
    "signal['M'][0] # M Var\n",
    "signal['M'][0][0] # M Var First Cell\n",
    "signal['M'][0][0][0] # M Var First Cell First Row\n",
    "'''\n",
    "\n",
    "sz1 = 9\n",
    "sv1 = np.array([[5, 5, 5]]).T\n",
    "ini_v1 = 1\n",
    "\n",
    "sz2 = 7\n",
    "sv2 = np.array([[5, 5, 5]]).T\n",
    "ini_v2 = 1\n"
   ]
  },
  {
   "cell_type": "code",
   "execution_count": 70,
   "id": "f96c6de3",
   "metadata": {},
   "outputs": [],
   "source": [
    "# Inside the mvlrrl0 function\n",
    "sz = sz1\n",
    "sv = sv1\n",
    "iSeedV1 = ini_v1\n",
    "\n",
    "\n",
    "# line 1-50\n",
    "\n",
    "maxIter = 1e03\n",
    "threshold = 1e-05\n",
    "\n",
    "# M[0]\n",
    "\n",
    "n = M[0].shape[0]\n",
    "nView = len(M)\n",
    "\n",
    "d = np.zeros((nView, 1))\n",
    "z = np.ones((n,1)); # initialize z with all ones\n",
    "U = np.ones((n, nView)); # initialize u with all ones\n",
    "V = np.full([nView,1], None) \n",
    "# V = [None]*nView\n",
    "\n",
    "gamma_z = 1.2;\n",
    "gamma_u = 1.2;\n",
    "gamma_v = 1.2;\n",
    "\n"
   ]
  },
  {
   "cell_type": "code",
   "execution_count": 71,
   "id": "057826a7",
   "metadata": {},
   "outputs": [],
   "source": [
    "# line 51-60\n",
    "\n",
    "for iView in range (nView):\n",
    "    d[iView] = M[iView].shape [1]\n",
    "    V[iView] = [np.ones ((int(d[iView]),1))]\n"
   ]
  },
  {
   "cell_type": "code",
   "execution_count": 72,
   "id": "fe6d2ef4",
   "metadata": {},
   "outputs": [],
   "source": [
    "# line 62-75\n",
    "\n",
    "# Arguments > 3\n",
    "# Initialize v1 with all zeros except 1 for the seed feature\n",
    "\n",
    "V[0][0][0:len(V[0][0])] = 0\n",
    "V[0][0][0] = 1\n",
    "\n",
    "# Did not do update v because we expect 3 arguments\n",
    "\n",
    "U[:,0] = update_u(M[0], z, U[:,0], V[0], gamma_u)\n",
    "tmp = map (U[:,0], sz)\n",
    "z[tmp == 0] = 0\n",
    "\n"
   ]
  },
  {
   "cell_type": "code",
   "execution_count": null,
   "id": "d1a61774",
   "metadata": {},
   "outputs": [],
   "source": [
    "# line 76 - \n",
    "\n",
    "if (nView > 1):\n",
    "    for iView = \n"
   ]
  },
  {
   "cell_type": "code",
   "execution_count": 80,
   "id": "50a6d31f",
   "metadata": {},
   "outputs": [
    {
     "data": {
      "text/plain": [
       "2"
      ]
     },
     "execution_count": 80,
     "metadata": {},
     "output_type": "execute_result"
    }
   ],
   "source": [
    "iView"
   ]
  },
  {
   "cell_type": "markdown",
   "id": "295ece2a",
   "metadata": {},
   "source": [
    "# Functions in MVBC"
   ]
  },
  {
   "cell_type": "code",
   "execution_count": 21,
   "id": "210a6cae",
   "metadata": {},
   "outputs": [],
   "source": [
    "################ For testing purposes, use the following metrics: ################\n",
    "# M = M[0]\n",
    "# z\n",
    "# u =  U[:,0]\n",
    "# v = V[0]\n",
    "# gamma = gamma_u\n",
    "\n",
    "\n",
    "################################################################################\n",
    "\n",
    "def update_u(M, z, u, v, gamma):\n",
    "    # Given z, v, update u\n",
    "    grad = np.matmul(((z.T*u*v[0]).T - M),v[0]) * z\n",
    "\n",
    "    # tmp\n",
    "    h1 = np.matmul (np.transpose (v[0]), v[0])\n",
    "    h2 = np.matmul (z,h1)\n",
    "    tmp = h2 * z\n",
    "\n",
    "    # lip\n",
    "    lip = np.sqrt (np.matmul (np.transpose (tmp), tmp))\n",
    "\n",
    "    if (lip == 0):\n",
    "        u = np.zeros ((len (u),1)).shape\n",
    "    \n",
    "    # u \n",
    "    u = u-np.transpose ((1/(gamma*lip) * grad))\n",
    "\n",
    "    return u\n",
    "\n"
   ]
  },
  {
   "cell_type": "code",
   "execution_count": 65,
   "id": "2583d264",
   "metadata": {},
   "outputs": [],
   "source": [
    "################ For testing purposes, use the following metrics: ################\n",
    "\n",
    "# Map u to its closest that has <= s none zeros \n",
    "# u = U[:,0]\n",
    "# s = sz1\n",
    "\n",
    "################################################################################\n",
    "\n",
    "def map(u, s):\n",
    "\n",
    "    u_a = abs(u)\n",
    "    h1 = np.argsort (u_a)\n",
    "    I = h1[::-1]\n",
    "    v = u_a[I]\n",
    "    u[I[s:len(I)]]=0\n",
    "\n",
    "    return u\n",
    "\n"
   ]
  },
  {
   "cell_type": "code",
   "execution_count": null,
   "id": "db95f1fa",
   "metadata": {},
   "outputs": [],
   "source": []
  }
 ],
 "metadata": {
  "kernelspec": {
   "display_name": "Python 3 (ipykernel)",
   "language": "python",
   "name": "python3"
  },
  "language_info": {
   "codemirror_mode": {
    "name": "ipython",
    "version": 3
   },
   "file_extension": ".py",
   "mimetype": "text/x-python",
   "name": "python",
   "nbconvert_exporter": "python",
   "pygments_lexer": "ipython3",
   "version": "3.8.10"
  }
 },
 "nbformat": 4,
 "nbformat_minor": 5
}
