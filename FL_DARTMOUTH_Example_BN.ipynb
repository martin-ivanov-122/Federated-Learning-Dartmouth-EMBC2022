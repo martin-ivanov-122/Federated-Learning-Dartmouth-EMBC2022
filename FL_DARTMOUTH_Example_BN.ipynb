{
 "cells": [
  {
   "cell_type": "markdown",
   "id": "913bc926-dc82-4004-b8bb-4d2e9e33bd99",
   "metadata": {
    "id": "913bc926-dc82-4004-b8bb-4d2e9e33bd99"
   },
   "source": [
    "# Install Libraries"
   ]
  },
  {
   "cell_type": "code",
   "execution_count": 1,
   "id": "55c3f6cf-61a1-4d0a-bc6b-99046bea0600",
   "metadata": {
    "collapsed": true,
    "id": "55c3f6cf-61a1-4d0a-bc6b-99046bea0600"
   },
   "outputs": [
    {
     "name": "stdout",
     "output_type": "stream",
     "text": [
      "Requirement already satisfied: opencv-python in c:\\users\\b34nguye\\anaconda3\\lib\\site-packages (4.5.4.58)\n",
      "Requirement already satisfied: numpy>=1.17.3 in c:\\users\\b34nguye\\anaconda3\\lib\\site-packages (from opencv-python) (1.20.1)\n",
      "Requirement already satisfied: imutils in c:\\users\\b34nguye\\anaconda3\\lib\\site-packages (0.5.4)\n",
      "Requirement already satisfied: tensorflow in c:\\users\\b34nguye\\anaconda3\\lib\\site-packages (2.7.0)\n",
      "Requirement already satisfied: keras<2.8,>=2.7.0rc0 in c:\\users\\b34nguye\\anaconda3\\lib\\site-packages (from tensorflow) (2.7.0)\n",
      "Requirement already satisfied: typing-extensions>=3.6.6 in c:\\users\\b34nguye\\anaconda3\\lib\\site-packages (from tensorflow) (3.7.4.3)\n",
      "Requirement already satisfied: tensorflow-io-gcs-filesystem>=0.21.0 in c:\\users\\b34nguye\\anaconda3\\lib\\site-packages (from tensorflow) (0.22.0)\n",
      "Requirement already satisfied: wrapt>=1.11.0 in c:\\users\\b34nguye\\anaconda3\\lib\\site-packages (from tensorflow) (1.12.1)\n",
      "Requirement already satisfied: opt-einsum>=2.3.2 in c:\\users\\b34nguye\\anaconda3\\lib\\site-packages (from tensorflow) (3.3.0)\n",
      "Requirement already satisfied: termcolor>=1.1.0 in c:\\users\\b34nguye\\anaconda3\\lib\\site-packages (from tensorflow) (1.1.0)\n",
      "Requirement already satisfied: tensorboard~=2.6 in c:\\users\\b34nguye\\anaconda3\\lib\\site-packages (from tensorflow) (2.7.0)\n",
      "Requirement already satisfied: wheel<1.0,>=0.32.0 in c:\\users\\b34nguye\\anaconda3\\lib\\site-packages (from tensorflow) (0.36.2)\n",
      "Requirement already satisfied: libclang>=9.0.1 in c:\\users\\b34nguye\\anaconda3\\lib\\site-packages (from tensorflow) (12.0.0)\n",
      "Requirement already satisfied: astunparse>=1.6.0 in c:\\users\\b34nguye\\anaconda3\\lib\\site-packages (from tensorflow) (1.6.3)\n",
      "Requirement already satisfied: flatbuffers<3.0,>=1.12 in c:\\users\\b34nguye\\anaconda3\\lib\\site-packages (from tensorflow) (2.0)\n",
      "Requirement already satisfied: keras-preprocessing>=1.1.1 in c:\\users\\b34nguye\\anaconda3\\lib\\site-packages (from tensorflow) (1.1.2)\n",
      "Requirement already satisfied: google-pasta>=0.1.1 in c:\\users\\b34nguye\\anaconda3\\lib\\site-packages (from tensorflow) (0.2.0)\n",
      "Requirement already satisfied: absl-py>=0.4.0 in c:\\users\\b34nguye\\anaconda3\\lib\\site-packages (from tensorflow) (1.0.0)\n",
      "Requirement already satisfied: h5py>=2.9.0 in c:\\users\\b34nguye\\anaconda3\\lib\\site-packages (from tensorflow) (2.10.0)\n",
      "Requirement already satisfied: tensorflow-estimator<2.8,~=2.7.0rc0 in c:\\users\\b34nguye\\anaconda3\\lib\\site-packages (from tensorflow) (2.7.0)\n",
      "Requirement already satisfied: grpcio<2.0,>=1.24.3 in c:\\users\\b34nguye\\anaconda3\\lib\\site-packages (from tensorflow) (1.41.1)\n",
      "Requirement already satisfied: gast<0.5.0,>=0.2.1 in c:\\users\\b34nguye\\anaconda3\\lib\\site-packages (from tensorflow) (0.4.0)\n",
      "Requirement already satisfied: numpy>=1.14.5 in c:\\users\\b34nguye\\anaconda3\\lib\\site-packages (from tensorflow) (1.20.1)\n",
      "Requirement already satisfied: six>=1.12.0 in c:\\users\\b34nguye\\anaconda3\\lib\\site-packages (from tensorflow) (1.15.0)\n",
      "Requirement already satisfied: protobuf>=3.9.2 in c:\\users\\b34nguye\\anaconda3\\lib\\site-packages (from tensorflow) (3.19.1)\n",
      "Requirement already satisfied: google-auth<3,>=1.6.3 in c:\\users\\b34nguye\\anaconda3\\lib\\site-packages (from tensorboard~=2.6->tensorflow) (2.3.3)\n",
      "Requirement already satisfied: requests<3,>=2.21.0 in c:\\users\\b34nguye\\anaconda3\\lib\\site-packages (from tensorboard~=2.6->tensorflow) (2.25.1)\n",
      "Requirement already satisfied: tensorboard-plugin-wit>=1.6.0 in c:\\users\\b34nguye\\anaconda3\\lib\\site-packages (from tensorboard~=2.6->tensorflow) (1.8.0)\n",
      "Requirement already satisfied: markdown>=2.6.8 in c:\\users\\b34nguye\\anaconda3\\lib\\site-packages (from tensorboard~=2.6->tensorflow) (3.3.4)\n",
      "Requirement already satisfied: setuptools>=41.0.0 in c:\\users\\b34nguye\\anaconda3\\lib\\site-packages (from tensorboard~=2.6->tensorflow) (52.0.0.post20210125)\n",
      "Requirement already satisfied: tensorboard-data-server<0.7.0,>=0.6.0 in c:\\users\\b34nguye\\anaconda3\\lib\\site-packages (from tensorboard~=2.6->tensorflow) (0.6.1)\n",
      "Requirement already satisfied: werkzeug>=0.11.15 in c:\\users\\b34nguye\\anaconda3\\lib\\site-packages (from tensorboard~=2.6->tensorflow) (1.0.1)\n",
      "Requirement already satisfied: google-auth-oauthlib<0.5,>=0.4.1 in c:\\users\\b34nguye\\anaconda3\\lib\\site-packages (from tensorboard~=2.6->tensorflow) (0.4.6)\n",
      "Requirement already satisfied: cachetools<5.0,>=2.0.0 in c:\\users\\b34nguye\\anaconda3\\lib\\site-packages (from google-auth<3,>=1.6.3->tensorboard~=2.6->tensorflow) (4.2.4)\n",
      "Requirement already satisfied: rsa<5,>=3.1.4 in c:\\users\\b34nguye\\anaconda3\\lib\\site-packages (from google-auth<3,>=1.6.3->tensorboard~=2.6->tensorflow) (4.7.2)\n",
      "Requirement already satisfied: pyasn1-modules>=0.2.1 in c:\\users\\b34nguye\\anaconda3\\lib\\site-packages (from google-auth<3,>=1.6.3->tensorboard~=2.6->tensorflow) (0.2.8)\n",
      "Requirement already satisfied: requests-oauthlib>=0.7.0 in c:\\users\\b34nguye\\anaconda3\\lib\\site-packages (from google-auth-oauthlib<0.5,>=0.4.1->tensorboard~=2.6->tensorflow) (1.3.0)\n",
      "Requirement already satisfied: pyasn1<0.5.0,>=0.4.6 in c:\\users\\b34nguye\\anaconda3\\lib\\site-packages (from pyasn1-modules>=0.2.1->google-auth<3,>=1.6.3->tensorboard~=2.6->tensorflow) (0.4.8)\n",
      "Requirement already satisfied: urllib3<1.27,>=1.21.1 in c:\\users\\b34nguye\\anaconda3\\lib\\site-packages (from requests<3,>=2.21.0->tensorboard~=2.6->tensorflow) (1.26.4)\n",
      "Requirement already satisfied: certifi>=2017.4.17 in c:\\users\\b34nguye\\anaconda3\\lib\\site-packages (from requests<3,>=2.21.0->tensorboard~=2.6->tensorflow) (2020.12.5)\n",
      "Requirement already satisfied: idna<3,>=2.5 in c:\\users\\b34nguye\\anaconda3\\lib\\site-packages (from requests<3,>=2.21.0->tensorboard~=2.6->tensorflow) (2.10)\n",
      "Requirement already satisfied: chardet<5,>=3.0.2 in c:\\users\\b34nguye\\anaconda3\\lib\\site-packages (from requests<3,>=2.21.0->tensorboard~=2.6->tensorflow) (4.0.0)\n",
      "Requirement already satisfied: oauthlib>=3.0.0 in c:\\users\\b34nguye\\anaconda3\\lib\\site-packages (from requests-oauthlib>=0.7.0->google-auth-oauthlib<0.5,>=0.4.1->tensorboard~=2.6->tensorflow) (3.1.1)\n"
     ]
    }
   ],
   "source": [
    "!pip install opencv-python\n",
    "!pip install imutils\n",
    "!pip install tensorflow"
   ]
  },
  {
   "cell_type": "markdown",
   "id": "ede890ba-acca-4515-a55f-b2d342a02686",
   "metadata": {
    "id": "ede890ba-acca-4515-a55f-b2d342a02686"
   },
   "source": [
    "# Import Libraries"
   ]
  },
  {
   "cell_type": "code",
   "execution_count": 2,
   "id": "d0142576-c94a-4768-84fa-882c88fb3a41",
   "metadata": {
    "id": "d0142576-c94a-4768-84fa-882c88fb3a41"
   },
   "outputs": [],
   "source": [
    "import numpy as np\n",
    "import random\n",
    "import cv2\n",
    "import os\n",
    "from imutils import paths\n",
    "from sklearn.model_selection import train_test_split\n",
    "from sklearn.preprocessing import LabelBinarizer\n",
    "from sklearn.model_selection import train_test_split\n",
    "from sklearn.utils import shuffle\n",
    "from sklearn.metrics import accuracy_score\n",
    "from sklearn.preprocessing import OneHotEncoder\n",
    "from sklearn import preprocessing\n",
    "\n",
    "import tensorflow as tf\n",
    "from tensorflow.keras.models import Sequential\n",
    "from tensorflow.keras.layers import Conv2D\n",
    "from tensorflow.keras.layers import MaxPooling2D\n",
    "from tensorflow.keras.layers import Activation\n",
    "from tensorflow.keras.layers import Flatten\n",
    "from tensorflow.keras.layers import Dense\n",
    "from tensorflow.keras.optimizers import SGD\n",
    "from tensorflow.keras import backend as K\n",
    "\n",
    "import os \n",
    "\n",
    "from fl_utils import *\n",
    "from functions import *"
   ]
  },
  {
   "cell_type": "markdown",
   "id": "ad12aea0-e84e-4bdb-9b7b-88ac058edbed",
   "metadata": {
    "id": "ad12aea0-e84e-4bdb-9b7b-88ac058edbed"
   },
   "source": [
    "# Data Set up"
   ]
  },
  {
   "cell_type": "markdown",
   "id": "d62bf30b-2662-4305-a4da-22431e42d95a",
   "metadata": {
    "id": "d62bf30b-2662-4305-a4da-22431e42d95a"
   },
   "source": [
    "## Path to Data & Loading Data"
   ]
  },
  {
   "cell_type": "markdown",
   "id": "12c8ad13",
   "metadata": {},
   "source": [
    "### Read the View Text files"
   ]
  },
  {
   "cell_type": "code",
   "execution_count": 3,
   "id": "6fb9383c",
   "metadata": {},
   "outputs": [],
   "source": [
    "\n",
    "def readviewtextfile (filename):\n",
    "    with open(filename) as f:\n",
    "        lines = f.readlines()\n",
    "    f.close()\n",
    "\n",
    "    num_par = len (lines)\n",
    "    num_feat = len (lines[0].split (\",\"))\n",
    "    feat_matrix = np.zeros ((num_par,num_feat))\n",
    "\n",
    "    for i in range (num_par):\n",
    "        clean_items = lines[i].replace ('\\n','')\n",
    "        seperated_items = clean_items.split(\",\")\n",
    "\n",
    "        for j in range (num_feat):\n",
    "            feat_matrix [i][j] = float (seperated_items[j])\n",
    "    return feat_matrix\n"
   ]
  },
  {
   "cell_type": "code",
   "execution_count": 4,
   "id": "984e36be",
   "metadata": {},
   "outputs": [],
   "source": [
    "avg_view = readviewtextfile ('avg_view.txt')\n",
    "loc_view = readviewtextfile ('loc_view.txt')\n",
    "# trend view\n",
    "phq_score = readviewtextfile ('phq_score.txt')"
   ]
  },
  {
   "cell_type": "markdown",
   "id": "3c1c72f1",
   "metadata": {},
   "source": [
    "### Adjustment of the Labels"
   ]
  },
  {
   "cell_type": "code",
   "execution_count": 5,
   "id": "9349abf9",
   "metadata": {},
   "outputs": [],
   "source": [
    "label_encoder = preprocessing.LabelEncoder()\n",
    " \n",
    "label_list = label_encoder.fit_transform(phq_severity_sri (phq_score))"
   ]
  },
  {
   "cell_type": "markdown",
   "id": "779d1004",
   "metadata": {},
   "source": [
    "## TESTING PURPOSES BY COMBINING ALL VIEWS"
   ]
  },
  {
   "cell_type": "code",
   "execution_count": 6,
   "id": "17ed168e",
   "metadata": {},
   "outputs": [],
   "source": [
    "ft_matrix = np.hstack ((avg_view,loc_view))"
   ]
  },
  {
   "cell_type": "markdown",
   "id": "8eef1285-6e3a-44d5-9918-22e5e613a80c",
   "metadata": {
    "id": "8eef1285-6e3a-44d5-9918-22e5e613a80c"
   },
   "source": [
    "## Test-Train Split"
   ]
  },
  {
   "cell_type": "code",
   "execution_count": 136,
   "id": "3f78a970-fc58-48eb-bc40-5b8f71cd52b7",
   "metadata": {
    "id": "3f78a970-fc58-48eb-bc40-5b8f71cd52b7"
   },
   "outputs": [],
   "source": [
    "#split data into training and test set\n",
    "X_train, X_test, y_train, y_test = train_test_split(ft_matrix, \n",
    "                                                    label_list, \n",
    "                                                    test_size=0.2, \n",
    "                                                    random_state=52)\n",
    "\n",
    "y_train = y_train.reshape (len(y_train),1)\n",
    "y_test = y_test.reshape (len(y_test),1)"
   ]
  },
  {
   "cell_type": "markdown",
   "id": "19be9782-518e-4762-a72e-40956766ebc2",
   "metadata": {
    "id": "19be9782-518e-4762-a72e-40956766ebc2"
   },
   "source": [
    "# Federated Learning Set-up"
   ]
  },
  {
   "cell_type": "markdown",
   "id": "3e048e2e-86e3-42e6-aedf-e95e21df218f",
   "metadata": {
    "id": "3e048e2e-86e3-42e6-aedf-e95e21df218f"
   },
   "source": [
    "## Create Clients"
   ]
  },
  {
   "cell_type": "code",
   "execution_count": 138,
   "id": "bf04e794-5f71-4055-b29a-5bf8df8ebc91",
   "metadata": {
    "id": "bf04e794-5f71-4055-b29a-5bf8df8ebc91"
   },
   "outputs": [],
   "source": [
    "#create clients\n",
    "clients = create_clients(X_train, y_train, num_clients=1, initial='client')"
   ]
  },
  {
   "cell_type": "code",
   "execution_count": 139,
   "id": "24147080",
   "metadata": {},
   "outputs": [
    {
     "name": "stdout",
     "output_type": "stream",
     "text": [
      "{'client_1': [(array([1.43128143e+06, 6.47583740e+04, 1.06596562e+04, 8.73559000e+05,\n",
      "       1.66200000e+03, 6.83662000e+05, 6.70000000e+01, 3.70941103e+06,\n",
      "       1.58366585e+06, 1.22394631e+06, 2.29210400e+06, 2.79000000e+02,\n",
      "       9.11926571e-02, 4.15755767e-01, 0.00000000e+00, 0.00000000e+00,\n",
      "       3.64891080e-01, 0.00000000e+00, 9.65790146e-01, 5.79525147e-02,\n",
      "       1.77738281e+02]), array([0], dtype=int64)), (array([1.00861752e+06, 7.66702799e+04, 2.25077487e+04, 1.60459600e+06,\n",
      "       2.11100000e+03, 1.76565000e+06, 1.84000000e+02, 2.54169057e+06,\n",
      "       2.34473751e+06, 1.48653887e+06, 2.13746400e+06, 2.26000000e+02,\n",
      "       1.95256628e+02, 4.54979900e-01, 0.00000000e+00, 0.00000000e+00,\n",
      "       3.58297598e-01, 0.00000000e+00, 9.42075996e-01, 2.31464319e-01,\n",
      "       1.18090688e+03]), array([0], dtype=int64)), (array([8.98827061e+05, 3.63385969e+04, 1.30567105e+04, 8.08665000e+05,\n",
      "       1.37300000e+03, 2.07537900e+06, 1.52000000e+02, 2.37942663e+06,\n",
      "       9.97025744e+05, 8.82717795e+05, 2.36783900e+06, 1.53000000e+02,\n",
      "       1.48556783e-01, 4.41007182e-01, 0.00000000e+00, 0.00000000e+00,\n",
      "       3.61049986e-01, 0.00000000e+00, 9.99033816e-01, 1.56199678e-01,\n",
      "       5.00461706e+01]), array([0], dtype=int64)), (array([1.06035640e+06, 2.92376711e+04, 3.38092676e+03, 7.76928000e+05,\n",
      "       1.05100000e+03, 1.47724000e+06, 1.25000000e+02, 2.85333899e+06,\n",
      "       1.22150147e+06, 5.48553878e+05, 2.02982800e+06, 1.64000000e+02,\n",
      "       7.11238261e-02, 4.03648514e-01, 0.00000000e+00, 0.00000000e+00,\n",
      "       3.66194289e-01, 0.00000000e+00, 9.77020816e-01, 1.26791025e-01,\n",
      "       3.77983615e+01]), array([1], dtype=int64)), (array([9.96711293e+05, 8.28447753e+04, 3.93374658e+04, 1.50598600e+06,\n",
      "       2.73700000e+03, 3.17223900e+06, 2.68000000e+02, 2.27332069e+06,\n",
      "       1.86439128e+06, 2.00419201e+06, 3.49366900e+06, 2.41000000e+02,\n",
      "       2.68260972e-02, 4.37547344e-01, 3.63411416e-04, 6.05685693e-04,\n",
      "       3.69029492e-01, 3.35905120e-01, 8.95027624e-01, 4.06629834e-01,\n",
      "       1.99593622e+02]), array([0], dtype=int64)), (array([1.14884486e+06, 1.81750202e+04, 2.25056546e+03, 6.40251000e+05,\n",
      "       1.40100000e+03, 1.01608000e+06, 8.40000000e+01, 3.01468518e+06,\n",
      "       1.03582569e+06, 3.84077036e+05, 2.52850400e+06, 2.25000000e+02,\n",
      "       1.58701603e-04, 2.91509012e-01, 1.51362503e-01, 0.00000000e+00,\n",
      "       6.45122756e-01, 9.30715401e-01, 6.55330439e-01, 1.06849976e-01,\n",
      "       3.12271038e+02]), array([0], dtype=int64)), (array([1.13466324e+06, 2.15182864e+04, 2.52783803e+03, 6.21778000e+05,\n",
      "       1.31500000e+03, 2.60080600e+06, 1.91000000e+02, 2.80340296e+06,\n",
      "       8.90239264e+05, 7.12648435e+05, 2.22413700e+06, 2.14000000e+02,\n",
      "       8.72309195e-07, 3.32292496e-01, 1.19153548e-02, 6.93035941e-03,\n",
      "       4.53340650e-01, 4.12648442e-01, 9.21398892e-01, 5.02077562e-02,\n",
      "       1.37053016e+01]), array([0], dtype=int64)), (array([1.25038627e+06, 3.74418042e+04, 4.74878034e+03, 8.73955000e+05,\n",
      "       1.39600000e+03, 2.79064400e+06, 2.31000000e+02, 3.16767079e+06,\n",
      "       1.42838492e+06, 6.76211154e+05, 3.00590700e+06, 2.29000000e+02,\n",
      "       3.15622576e-06, 5.87011451e-01, 6.78778031e-02, 1.86269320e-02,\n",
      "       5.69495660e-01, 5.18377289e-01, 8.44687500e-01, 1.01718750e-01,\n",
      "       3.85698863e+01]), array([0], dtype=int64)), (array([1.09668880e+06, 5.23759176e+04, 2.44571612e+04, 1.66481300e+06,\n",
      "       2.17900000e+03, 2.48748400e+06, 2.05000000e+02, 2.75140677e+06,\n",
      "       2.27484824e+06, 1.49518895e+06, 3.08455700e+06, 2.16000000e+02,\n",
      "       1.13812791e-05, 5.19550876e-01, 6.57104818e-04, 8.66283185e-02,\n",
      "       5.56916044e-01, 5.06926829e-01, 7.71882332e-01, 2.14762678e-01,\n",
      "       1.06223128e+02]), array([0], dtype=int64)), (array([1.15338760e+06, 4.90623278e+04, 6.65539172e+03, 1.02857500e+06,\n",
      "       1.72300000e+03, 1.72200300e+06, 1.63000000e+02, 3.25279979e+06,\n",
      "       1.40499591e+06, 6.91170488e+05, 2.57876100e+06, 2.42000000e+02,\n",
      "       1.13036791e-05, 5.24853660e-01, 1.09710213e-04, 1.21229786e-01,\n",
      "       5.95142787e-01, 5.41722311e-01, 7.75551783e-01, 1.43803056e-01,\n",
      "       7.72622949e+01]), array([1], dtype=int64)), (array([1.01192672e+06, 1.15765427e+04, 1.04670546e+03, 2.48496000e+05,\n",
      "       4.78000000e+02, 8.83243000e+05, 6.30000000e+01, 2.76677806e+06,\n",
      "       3.65094828e+05, 1.45952273e+05, 1.51470400e+06, 1.02000000e+02,\n",
      "       9.95092890e-06, 4.27754036e-01, 8.56731975e-04, 0.00000000e+00,\n",
      "       3.69302263e-01, 5.32790544e-01, 9.27755568e-01, 4.02627070e-02,\n",
      "       7.29110222e+00]), array([0], dtype=int64)), (array([1.11977856e+06, 6.43973663e+04, 9.79007903e+03, 1.71458600e+06,\n",
      "       2.26900000e+03, 2.11986200e+06, 1.91000000e+02, 3.04267679e+06,\n",
      "       2.53817718e+06, 1.15063929e+06, 3.24202000e+06, 2.19000000e+02,\n",
      "       1.69680377e-02, 5.29707984e-01, 6.99774358e-03, 0.00000000e+00,\n",
      "       3.71316001e-01, 5.35695754e-01, 9.52983011e-01, 1.99328329e-01,\n",
      "       1.02937567e+02]), array([0], dtype=int64)), (array([1.19118376e+06, 4.13953714e+04, 7.41110201e+03, 1.20004200e+06,\n",
      "       1.41700000e+03, 2.09995700e+06, 1.86000000e+02, 2.89781383e+06,\n",
      "       1.79846539e+06, 1.09199457e+06, 3.20150800e+06, 2.66000000e+02,\n",
      "       1.27229424e-03, 6.58767806e-01, 9.85851389e-04, 0.00000000e+00,\n",
      "       2.81783308e-01, 4.06527382e-01, 9.21965798e-01, 7.45475677e-02,\n",
      "       1.03420499e+01]), array([0], dtype=int64)), (array([1.10289197e+06, 4.03950380e+04, 3.48006911e+03, 1.08661600e+06,\n",
      "       1.64000000e+03, 2.21732500e+06, 1.70000000e+02, 2.85117126e+06,\n",
      "       1.46820585e+06, 1.01482356e+06, 2.40435800e+06, 1.80000000e+02,\n",
      "       8.56564410e-03, 5.93827849e-01, 0.00000000e+00, 0.00000000e+00,\n",
      "       3.09482777e-01, 0.00000000e+00, 9.90348924e-01, 1.72791388e-01,\n",
      "       7.71049001e+01]), array([1], dtype=int64)), (array([8.54171483e+05, 2.00128776e+04, 2.80377705e+03, 6.89828000e+05,\n",
      "       1.14700000e+03, 1.39495400e+06, 9.60000000e+01, 2.39129940e+06,\n",
      "       1.01183007e+06, 4.06337825e+05, 1.18509100e+06, 9.80000000e+01,\n",
      "       8.97997193e-04, 2.46223489e-01, 1.23674470e-01, 0.00000000e+00,\n",
      "       6.03578384e-01, 8.70779541e-01, 6.57538878e-01, 1.06490872e-01,\n",
      "       5.05313568e+02]), array([1], dtype=int64)), (array([5.70955349e+05, 2.05065229e+04, 1.70162711e+03, 7.73013000e+05,\n",
      "       1.05200000e+03, 7.02331000e+05, 4.90000000e+01, 1.57049312e+06,\n",
      "       1.03175660e+06, 6.08553488e+05, 8.89876000e+05, 5.80000000e+01,\n",
      "       3.34996041e-01, 1.78078860e-01, 1.16738228e-02, 0.00000000e+00,\n",
      "       3.59233455e-01, 5.18264324e-01, 9.37919463e-01, 2.94742729e-01,\n",
      "       5.34790842e+01]), array([1], dtype=int64)), (array([9.22492905e+05, 2.16444837e+04, 2.25409922e+03, 7.96322000e+05,\n",
      "       1.25900000e+03, 1.00350000e+06, 6.90000000e+01, 1.85822896e+06,\n",
      "       1.13521557e+06, 6.08435112e+05, 1.86319700e+06, 1.84000000e+02,\n",
      "       3.08203550e-03, 2.55505536e-01, 4.45131596e-04, 3.33848697e-04,\n",
      "       3.54747709e-01, 3.22905280e-01, 5.07164568e-01, 1.19843682e-01,\n",
      "       1.98198806e+02]), array([0], dtype=int64)), (array([1.14657752e+06, 2.49995302e+04, 1.69235816e+03, 1.03564700e+06,\n",
      "       1.83700000e+03, 1.67386100e+06, 1.24000000e+02, 3.10130333e+06,\n",
      "       1.58290286e+06, 6.03618301e+05, 2.90788100e+06, 2.41000000e+02,\n",
      "       9.40589545e-03, 4.14815337e-01, 0.00000000e+00, 0.00000000e+00,\n",
      "       3.65005070e-01, 0.00000000e+00, 9.87006369e-01, 9.32484076e-02,\n",
      "       3.45168899e+01]), array([1], dtype=int64)), (array([1.18702173e+06, 4.82197639e+04, 2.61792601e+04, 8.01298000e+05,\n",
      "       1.91400000e+03, 2.67937100e+06, 2.44000000e+02, 3.28203986e+06,\n",
      "       1.04349404e+06, 8.09031053e+05, 3.22506600e+06, 3.33000000e+02,\n",
      "       7.63562117e+01, 5.70593693e-01, 0.00000000e+00, 0.00000000e+00,\n",
      "       3.20147507e-01, 0.00000000e+00, 9.61268904e-01, 1.69125784e-01,\n",
      "       1.05337791e+03]), array([1], dtype=int64)), (array([8.05720928e+05, 3.13151346e+04, 5.13462304e+03, 6.97120000e+05,\n",
      "       1.13900000e+03, 5.71686000e+05, 5.10000000e+01, 1.77277321e+06,\n",
      "       1.01264288e+06, 6.21399862e+05, 5.21538000e+05, 4.00000000e+01,\n",
      "       6.32427732e-04, 1.16491342e-01, 2.49714846e-02, 1.24603905e-01,\n",
      "       6.02096499e-01, 5.48051852e-01, 4.66412577e-01, 1.22915674e-01,\n",
      "       1.90262060e+02]), array([0], dtype=int64)), (array([1.22433786e+06, 6.75516174e+04, 2.39417979e+04, 8.76731000e+05,\n",
      "       1.93600000e+03, 2.26759100e+06, 2.08000000e+02, 3.33224197e+06,\n",
      "       1.14183841e+06, 9.13127737e+05, 3.88283900e+06, 3.16000000e+02,\n",
      "       5.63791366e-03, 6.71350924e-01, 0.00000000e+00, 0.00000000e+00,\n",
      "       2.67508700e-01, 0.00000000e+00, 5.40595611e-01, 8.90282132e-02,\n",
      "       2.63752314e+02]), array([1], dtype=int64)), (array([9.11435600e+05, 4.85413005e+04, 9.68016539e+03, 1.04348400e+06,\n",
      "       1.73100000e+03, 1.70929100e+06, 1.39000000e+02, 2.62772170e+06,\n",
      "       1.25893940e+06, 9.06316475e+05, 2.00178200e+06, 1.62000000e+02,\n",
      "       1.42358976e-01, 4.53373030e-01, 2.10640352e-02, 0.00000000e+00,\n",
      "       4.39947354e-01, 6.34709865e-01, 9.43282194e-01, 2.08275221e-01,\n",
      "       7.51382504e+01]), array([0], dtype=int64)), (array([1.27516324e+06, 2.92805367e+04, 1.32178438e+04, 7.66612000e+05,\n",
      "       1.42700000e+03, 5.91289000e+05, 4.70000000e+01, 3.37497458e+06,\n",
      "       1.06145095e+06, 6.49334841e+05, 1.30810900e+06, 1.04000000e+02,\n",
      "       1.62783193e-04, 4.38225579e-01, 2.01737974e-02, 0.00000000e+00,\n",
      "       4.40291325e-01, 6.35206112e-01, 8.22119816e-01, 8.43317972e-02,\n",
      "       3.27031503e+01]), array([0], dtype=int64)), (array([4.18627601e+06, 3.55371244e+05, 8.26245184e+04, 1.60761300e+06,\n",
      "       4.08500000e+03, 1.76012100e+06, 1.65000000e+02, 5.60396951e+06,\n",
      "       1.96230539e+06, 4.14343508e+06, 1.51787300e+06, 1.45000000e+02,\n",
      "       2.47898372e+01, 6.14821492e-01, 0.00000000e+00, 0.00000000e+00,\n",
      "       2.99063505e-01, 0.00000000e+00, 9.23142759e-01, 2.10201986e-01,\n",
      "       2.31857958e+02]), array([0], dtype=int64)), (array([1.00961441e+06, 9.39893672e+04, 8.29437032e+03, 1.63724400e+06,\n",
      "       1.87900000e+03, 2.01262500e+06, 1.47000000e+02, 2.31806256e+06,\n",
      "       2.21218825e+06, 1.78779558e+06, 2.45104500e+06, 2.17000000e+02,\n",
      "       6.79699340e-02, 4.08992753e-01, 0.00000000e+00, 0.00000000e+00,\n",
      "       3.65663178e-01, 0.00000000e+00, 9.78186597e-01, 2.81471748e-01,\n",
      "       6.54934549e+01]), array([0], dtype=int64)), (array([8.56981778e+05, 2.06851670e+04, 1.05701678e+03, 4.75481000e+05,\n",
      "       1.05200000e+03, 1.13434900e+06, 9.10000000e+01, 2.18683229e+06,\n",
      "       6.86996585e+05, 4.59779297e+05, 1.37703900e+06, 1.10000000e+02,\n",
      "       3.29929566e-06, 3.44026549e-01, 4.16589331e-02, 0.00000000e+00,\n",
      "       4.99490931e-01, 7.20613090e-01, 8.67631486e-01, 1.02012001e-01,\n",
      "       1.55268708e+01]), array([0], dtype=int64)), (array([1.21590746e+06, 3.22431679e+04, 4.04381126e+03, 1.01564200e+06,\n",
      "       2.21200000e+03, 1.96477000e+06, 2.08000000e+02, 3.22851419e+06,\n",
      "       1.39049845e+06, 8.38162177e+05, 1.62252900e+06, 1.47000000e+02,\n",
      "       1.69817735e-06, 4.13297607e-01, 1.54920284e-02, 3.54406677e-02,\n",
      "       5.83279911e-01, 4.20747518e-01, 8.35209365e-01, 1.80774426e-01,\n",
      "       3.87005331e+01]), array([0], dtype=int64)), (array([1.24307474e+06, 4.67566752e+04, 8.96866398e+02, 1.04677500e+06,\n",
      "       1.68600000e+03, 2.46166700e+06, 1.79000000e+02, 3.41792907e+06,\n",
      "       1.56717513e+06, 7.29789224e+05, 2.88810000e+06, 2.54000000e+02,\n",
      "       2.50814164e-04, 4.83820296e-01, 1.05246965e-04, 0.00000000e+00,\n",
      "       3.52237703e-01, 5.08171587e-01, 7.15745977e-01, 1.66159200e-01,\n",
      "       1.21401740e+02]), array([0], dtype=int64)), (array([9.88016187e+05, 4.53265951e+04, 5.00702165e+03, 9.48053000e+05,\n",
      "       9.02000000e+02, 2.27616400e+06, 1.80000000e+02, 2.37294309e+06,\n",
      "       1.42582860e+06, 9.80129547e+05, 1.92106500e+06, 1.86000000e+02,\n",
      "       1.18271801e-05, 2.79365277e-01, 6.66387192e-02, 0.00000000e+00,\n",
      "       5.36745350e-01, 7.74359855e-01, 8.04200783e-01, 1.96867213e-01,\n",
      "       6.32842261e+01]), array([0], dtype=int64)), (array([5.83861618e+05, 2.61304105e+04, 7.20635975e+03, 7.70176000e+05,\n",
      "       1.04800000e+03, 8.32116000e+05, 8.40000000e+01, 1.50129464e+06,\n",
      "       1.16617016e+06, 5.76739503e+05, 1.39858100e+06, 1.26000000e+02,\n",
      "       3.52774872e-05, 4.75130083e-01, 2.66552641e-03, 0.00000000e+00,\n",
      "       3.69375482e-01, 5.32896176e-01, 7.91724779e-01, 1.25523013e-01,\n",
      "       1.43662510e+01]), array([0], dtype=int64))]}\n"
     ]
    }
   ],
   "source": [
    "print (clients)"
   ]
  },
  {
   "cell_type": "markdown",
   "id": "9e27e850-b2d9-4320-bef3-91bfee3f82ca",
   "metadata": {
    "id": "9e27e850-b2d9-4320-bef3-91bfee3f82ca"
   },
   "source": [
    "## Batch Cliets"
   ]
  },
  {
   "cell_type": "code",
   "execution_count": 140,
   "id": "3dd54154-d154-4f15-92a0-1bd52f13e7cd",
   "metadata": {
    "id": "3dd54154-d154-4f15-92a0-1bd52f13e7cd"
   },
   "outputs": [],
   "source": [
    "#process and batch the training data for each client\n",
    "clients_batched = dict()\n",
    "for (client_name, data) in clients.items():\n",
    "    clients_batched[client_name] = batch_data(data,10)\n",
    "    \n"
   ]
  },
  {
   "cell_type": "code",
   "execution_count": 141,
   "id": "52d6b827",
   "metadata": {},
   "outputs": [
    {
     "data": {
      "text/plain": [
       "<BatchDataset shapes: ((None, 21), (None, 1)), types: (tf.float64, tf.int64)>"
      ]
     },
     "execution_count": 141,
     "metadata": {},
     "output_type": "execute_result"
    }
   ],
   "source": [
    "clients_batched['client_1']"
   ]
  },
  {
   "cell_type": "code",
   "execution_count": 142,
   "id": "cb0c5223-fda5-4dd3-bfcf-b4380ff11170",
   "metadata": {
    "id": "cb0c5223-fda5-4dd3-bfcf-b4380ff11170",
    "outputId": "433dc431-5798-4ca7-bda1-34c0b5421354"
   },
   "outputs": [
    {
     "name": "stdout",
     "output_type": "stream",
     "text": [
      "(<tf.Tensor: shape=(10, 21), dtype=float64, numpy=\n",
      "array([[1.18702173e+06, 4.82197639e+04, 2.61792601e+04, 8.01298000e+05,\n",
      "        1.91400000e+03, 2.67937100e+06, 2.44000000e+02, 3.28203986e+06,\n",
      "        1.04349404e+06, 8.09031053e+05, 3.22506600e+06, 3.33000000e+02,\n",
      "        7.63562117e+01, 5.70593693e-01, 0.00000000e+00, 0.00000000e+00,\n",
      "        3.20147507e-01, 0.00000000e+00, 9.61268904e-01, 1.69125784e-01,\n",
      "        1.05337791e+03],\n",
      "       [9.96711293e+05, 8.28447753e+04, 3.93374658e+04, 1.50598600e+06,\n",
      "        2.73700000e+03, 3.17223900e+06, 2.68000000e+02, 2.27332069e+06,\n",
      "        1.86439128e+06, 2.00419201e+06, 3.49366900e+06, 2.41000000e+02,\n",
      "        2.68260972e-02, 4.37547344e-01, 3.63411416e-04, 6.05685693e-04,\n",
      "        3.69029492e-01, 3.35905120e-01, 8.95027624e-01, 4.06629834e-01,\n",
      "        1.99593622e+02],\n",
      "       [1.22433786e+06, 6.75516174e+04, 2.39417979e+04, 8.76731000e+05,\n",
      "        1.93600000e+03, 2.26759100e+06, 2.08000000e+02, 3.33224197e+06,\n",
      "        1.14183841e+06, 9.13127737e+05, 3.88283900e+06, 3.16000000e+02,\n",
      "        5.63791366e-03, 6.71350924e-01, 0.00000000e+00, 0.00000000e+00,\n",
      "        2.67508700e-01, 0.00000000e+00, 5.40595611e-01, 8.90282132e-02,\n",
      "        2.63752314e+02],\n",
      "       [1.06035640e+06, 2.92376711e+04, 3.38092676e+03, 7.76928000e+05,\n",
      "        1.05100000e+03, 1.47724000e+06, 1.25000000e+02, 2.85333899e+06,\n",
      "        1.22150147e+06, 5.48553878e+05, 2.02982800e+06, 1.64000000e+02,\n",
      "        7.11238261e-02, 4.03648514e-01, 0.00000000e+00, 0.00000000e+00,\n",
      "        3.66194289e-01, 0.00000000e+00, 9.77020816e-01, 1.26791025e-01,\n",
      "        3.77983615e+01],\n",
      "       [1.27516324e+06, 2.92805367e+04, 1.32178438e+04, 7.66612000e+05,\n",
      "        1.42700000e+03, 5.91289000e+05, 4.70000000e+01, 3.37497458e+06,\n",
      "        1.06145095e+06, 6.49334841e+05, 1.30810900e+06, 1.04000000e+02,\n",
      "        1.62783193e-04, 4.38225579e-01, 2.01737974e-02, 0.00000000e+00,\n",
      "        4.40291325e-01, 6.35206112e-01, 8.22119816e-01, 8.43317972e-02,\n",
      "        3.27031503e+01],\n",
      "       [5.70955349e+05, 2.05065229e+04, 1.70162711e+03, 7.73013000e+05,\n",
      "        1.05200000e+03, 7.02331000e+05, 4.90000000e+01, 1.57049312e+06,\n",
      "        1.03175660e+06, 6.08553488e+05, 8.89876000e+05, 5.80000000e+01,\n",
      "        3.34996041e-01, 1.78078860e-01, 1.16738228e-02, 0.00000000e+00,\n",
      "        3.59233455e-01, 5.18264324e-01, 9.37919463e-01, 2.94742729e-01,\n",
      "        5.34790842e+01],\n",
      "       [1.09668880e+06, 5.23759176e+04, 2.44571612e+04, 1.66481300e+06,\n",
      "        2.17900000e+03, 2.48748400e+06, 2.05000000e+02, 2.75140677e+06,\n",
      "        2.27484824e+06, 1.49518895e+06, 3.08455700e+06, 2.16000000e+02,\n",
      "        1.13812791e-05, 5.19550876e-01, 6.57104818e-04, 8.66283185e-02,\n",
      "        5.56916044e-01, 5.06926829e-01, 7.71882332e-01, 2.14762678e-01,\n",
      "        1.06223128e+02],\n",
      "       [1.13466324e+06, 2.15182864e+04, 2.52783803e+03, 6.21778000e+05,\n",
      "        1.31500000e+03, 2.60080600e+06, 1.91000000e+02, 2.80340296e+06,\n",
      "        8.90239264e+05, 7.12648435e+05, 2.22413700e+06, 2.14000000e+02,\n",
      "        8.72309195e-07, 3.32292496e-01, 1.19153548e-02, 6.93035941e-03,\n",
      "        4.53340650e-01, 4.12648442e-01, 9.21398892e-01, 5.02077562e-02,\n",
      "        1.37053016e+01],\n",
      "       [1.00861752e+06, 7.66702799e+04, 2.25077487e+04, 1.60459600e+06,\n",
      "        2.11100000e+03, 1.76565000e+06, 1.84000000e+02, 2.54169057e+06,\n",
      "        2.34473751e+06, 1.48653887e+06, 2.13746400e+06, 2.26000000e+02,\n",
      "        1.95256628e+02, 4.54979900e-01, 0.00000000e+00, 0.00000000e+00,\n",
      "        3.58297598e-01, 0.00000000e+00, 9.42075996e-01, 2.31464319e-01,\n",
      "        1.18090688e+03],\n",
      "       [9.22492905e+05, 2.16444837e+04, 2.25409922e+03, 7.96322000e+05,\n",
      "        1.25900000e+03, 1.00350000e+06, 6.90000000e+01, 1.85822896e+06,\n",
      "        1.13521557e+06, 6.08435112e+05, 1.86319700e+06, 1.84000000e+02,\n",
      "        3.08203550e-03, 2.55505536e-01, 4.45131596e-04, 3.33848697e-04,\n",
      "        3.54747709e-01, 3.22905280e-01, 5.07164568e-01, 1.19843682e-01,\n",
      "        1.98198806e+02]])>, <tf.Tensor: shape=(10, 1), dtype=int64, numpy=\n",
      "array([[1],\n",
      "       [0],\n",
      "       [1],\n",
      "       [1],\n",
      "       [0],\n",
      "       [1],\n",
      "       [0],\n",
      "       [0],\n",
      "       [0],\n",
      "       [0]], dtype=int64)>)\n",
      "(<tf.Tensor: shape=(10, 21), dtype=float64, numpy=\n",
      "array([[1.24307474e+06, 4.67566752e+04, 8.96866398e+02, 1.04677500e+06,\n",
      "        1.68600000e+03, 2.46166700e+06, 1.79000000e+02, 3.41792907e+06,\n",
      "        1.56717513e+06, 7.29789224e+05, 2.88810000e+06, 2.54000000e+02,\n",
      "        2.50814164e-04, 4.83820296e-01, 1.05246965e-04, 0.00000000e+00,\n",
      "        3.52237703e-01, 5.08171587e-01, 7.15745977e-01, 1.66159200e-01,\n",
      "        1.21401740e+02],\n",
      "       [1.21590746e+06, 3.22431679e+04, 4.04381126e+03, 1.01564200e+06,\n",
      "        2.21200000e+03, 1.96477000e+06, 2.08000000e+02, 3.22851419e+06,\n",
      "        1.39049845e+06, 8.38162177e+05, 1.62252900e+06, 1.47000000e+02,\n",
      "        1.69817735e-06, 4.13297607e-01, 1.54920284e-02, 3.54406677e-02,\n",
      "        5.83279911e-01, 4.20747518e-01, 8.35209365e-01, 1.80774426e-01,\n",
      "        3.87005331e+01],\n",
      "       [1.11977856e+06, 6.43973663e+04, 9.79007903e+03, 1.71458600e+06,\n",
      "        2.26900000e+03, 2.11986200e+06, 1.91000000e+02, 3.04267679e+06,\n",
      "        2.53817718e+06, 1.15063929e+06, 3.24202000e+06, 2.19000000e+02,\n",
      "        1.69680377e-02, 5.29707984e-01, 6.99774358e-03, 0.00000000e+00,\n",
      "        3.71316001e-01, 5.35695754e-01, 9.52983011e-01, 1.99328329e-01,\n",
      "        1.02937567e+02],\n",
      "       [8.56981778e+05, 2.06851670e+04, 1.05701678e+03, 4.75481000e+05,\n",
      "        1.05200000e+03, 1.13434900e+06, 9.10000000e+01, 2.18683229e+06,\n",
      "        6.86996585e+05, 4.59779297e+05, 1.37703900e+06, 1.10000000e+02,\n",
      "        3.29929566e-06, 3.44026549e-01, 4.16589331e-02, 0.00000000e+00,\n",
      "        4.99490931e-01, 7.20613090e-01, 8.67631486e-01, 1.02012001e-01,\n",
      "        1.55268708e+01],\n",
      "       [1.19118376e+06, 4.13953714e+04, 7.41110201e+03, 1.20004200e+06,\n",
      "        1.41700000e+03, 2.09995700e+06, 1.86000000e+02, 2.89781383e+06,\n",
      "        1.79846539e+06, 1.09199457e+06, 3.20150800e+06, 2.66000000e+02,\n",
      "        1.27229424e-03, 6.58767806e-01, 9.85851389e-04, 0.00000000e+00,\n",
      "        2.81783308e-01, 4.06527382e-01, 9.21965798e-01, 7.45475677e-02,\n",
      "        1.03420499e+01],\n",
      "       [1.15338760e+06, 4.90623278e+04, 6.65539172e+03, 1.02857500e+06,\n",
      "        1.72300000e+03, 1.72200300e+06, 1.63000000e+02, 3.25279979e+06,\n",
      "        1.40499591e+06, 6.91170488e+05, 2.57876100e+06, 2.42000000e+02,\n",
      "        1.13036791e-05, 5.24853660e-01, 1.09710213e-04, 1.21229786e-01,\n",
      "        5.95142787e-01, 5.41722311e-01, 7.75551783e-01, 1.43803056e-01,\n",
      "        7.72622949e+01],\n",
      "       [4.18627601e+06, 3.55371244e+05, 8.26245184e+04, 1.60761300e+06,\n",
      "        4.08500000e+03, 1.76012100e+06, 1.65000000e+02, 5.60396951e+06,\n",
      "        1.96230539e+06, 4.14343508e+06, 1.51787300e+06, 1.45000000e+02,\n",
      "        2.47898372e+01, 6.14821492e-01, 0.00000000e+00, 0.00000000e+00,\n",
      "        2.99063505e-01, 0.00000000e+00, 9.23142759e-01, 2.10201986e-01,\n",
      "        2.31857958e+02],\n",
      "       [1.14884486e+06, 1.81750202e+04, 2.25056546e+03, 6.40251000e+05,\n",
      "        1.40100000e+03, 1.01608000e+06, 8.40000000e+01, 3.01468518e+06,\n",
      "        1.03582569e+06, 3.84077036e+05, 2.52850400e+06, 2.25000000e+02,\n",
      "        1.58701603e-04, 2.91509012e-01, 1.51362503e-01, 0.00000000e+00,\n",
      "        6.45122756e-01, 9.30715401e-01, 6.55330439e-01, 1.06849976e-01,\n",
      "        3.12271038e+02],\n",
      "       [1.14657752e+06, 2.49995302e+04, 1.69235816e+03, 1.03564700e+06,\n",
      "        1.83700000e+03, 1.67386100e+06, 1.24000000e+02, 3.10130333e+06,\n",
      "        1.58290286e+06, 6.03618301e+05, 2.90788100e+06, 2.41000000e+02,\n",
      "        9.40589545e-03, 4.14815337e-01, 0.00000000e+00, 0.00000000e+00,\n",
      "        3.65005070e-01, 0.00000000e+00, 9.87006369e-01, 9.32484076e-02,\n",
      "        3.45168899e+01],\n",
      "       [8.54171483e+05, 2.00128776e+04, 2.80377705e+03, 6.89828000e+05,\n",
      "        1.14700000e+03, 1.39495400e+06, 9.60000000e+01, 2.39129940e+06,\n",
      "        1.01183007e+06, 4.06337825e+05, 1.18509100e+06, 9.80000000e+01,\n",
      "        8.97997193e-04, 2.46223489e-01, 1.23674470e-01, 0.00000000e+00,\n",
      "        6.03578384e-01, 8.70779541e-01, 6.57538878e-01, 1.06490872e-01,\n",
      "        5.05313568e+02]])>, <tf.Tensor: shape=(10, 1), dtype=int64, numpy=\n",
      "array([[0],\n",
      "       [0],\n",
      "       [0],\n",
      "       [0],\n",
      "       [0],\n",
      "       [1],\n",
      "       [0],\n",
      "       [0],\n",
      "       [1],\n",
      "       [1]], dtype=int64)>)\n",
      "(<tf.Tensor: shape=(10, 21), dtype=float64, numpy=\n",
      "array([[5.83861618e+05, 2.61304105e+04, 7.20635975e+03, 7.70176000e+05,\n",
      "        1.04800000e+03, 8.32116000e+05, 8.40000000e+01, 1.50129464e+06,\n",
      "        1.16617016e+06, 5.76739503e+05, 1.39858100e+06, 1.26000000e+02,\n",
      "        3.52774872e-05, 4.75130083e-01, 2.66552641e-03, 0.00000000e+00,\n",
      "        3.69375482e-01, 5.32896176e-01, 7.91724779e-01, 1.25523013e-01,\n",
      "        1.43662510e+01],\n",
      "       [1.43128143e+06, 6.47583740e+04, 1.06596562e+04, 8.73559000e+05,\n",
      "        1.66200000e+03, 6.83662000e+05, 6.70000000e+01, 3.70941103e+06,\n",
      "        1.58366585e+06, 1.22394631e+06, 2.29210400e+06, 2.79000000e+02,\n",
      "        9.11926571e-02, 4.15755767e-01, 0.00000000e+00, 0.00000000e+00,\n",
      "        3.64891080e-01, 0.00000000e+00, 9.65790146e-01, 5.79525147e-02,\n",
      "        1.77738281e+02],\n",
      "       [1.00961441e+06, 9.39893672e+04, 8.29437032e+03, 1.63724400e+06,\n",
      "        1.87900000e+03, 2.01262500e+06, 1.47000000e+02, 2.31806256e+06,\n",
      "        2.21218825e+06, 1.78779558e+06, 2.45104500e+06, 2.17000000e+02,\n",
      "        6.79699340e-02, 4.08992753e-01, 0.00000000e+00, 0.00000000e+00,\n",
      "        3.65663178e-01, 0.00000000e+00, 9.78186597e-01, 2.81471748e-01,\n",
      "        6.54934549e+01],\n",
      "       [9.11435600e+05, 4.85413005e+04, 9.68016539e+03, 1.04348400e+06,\n",
      "        1.73100000e+03, 1.70929100e+06, 1.39000000e+02, 2.62772170e+06,\n",
      "        1.25893940e+06, 9.06316475e+05, 2.00178200e+06, 1.62000000e+02,\n",
      "        1.42358976e-01, 4.53373030e-01, 2.10640352e-02, 0.00000000e+00,\n",
      "        4.39947354e-01, 6.34709865e-01, 9.43282194e-01, 2.08275221e-01,\n",
      "        7.51382504e+01],\n",
      "       [1.25038627e+06, 3.74418042e+04, 4.74878034e+03, 8.73955000e+05,\n",
      "        1.39600000e+03, 2.79064400e+06, 2.31000000e+02, 3.16767079e+06,\n",
      "        1.42838492e+06, 6.76211154e+05, 3.00590700e+06, 2.29000000e+02,\n",
      "        3.15622576e-06, 5.87011451e-01, 6.78778031e-02, 1.86269320e-02,\n",
      "        5.69495660e-01, 5.18377289e-01, 8.44687500e-01, 1.01718750e-01,\n",
      "        3.85698863e+01],\n",
      "       [8.05720928e+05, 3.13151346e+04, 5.13462304e+03, 6.97120000e+05,\n",
      "        1.13900000e+03, 5.71686000e+05, 5.10000000e+01, 1.77277321e+06,\n",
      "        1.01264288e+06, 6.21399862e+05, 5.21538000e+05, 4.00000000e+01,\n",
      "        6.32427732e-04, 1.16491342e-01, 2.49714846e-02, 1.24603905e-01,\n",
      "        6.02096499e-01, 5.48051852e-01, 4.66412577e-01, 1.22915674e-01,\n",
      "        1.90262060e+02],\n",
      "       [1.01192672e+06, 1.15765427e+04, 1.04670546e+03, 2.48496000e+05,\n",
      "        4.78000000e+02, 8.83243000e+05, 6.30000000e+01, 2.76677806e+06,\n",
      "        3.65094828e+05, 1.45952273e+05, 1.51470400e+06, 1.02000000e+02,\n",
      "        9.95092890e-06, 4.27754036e-01, 8.56731975e-04, 0.00000000e+00,\n",
      "        3.69302263e-01, 5.32790544e-01, 9.27755568e-01, 4.02627070e-02,\n",
      "        7.29110222e+00],\n",
      "       [8.98827061e+05, 3.63385969e+04, 1.30567105e+04, 8.08665000e+05,\n",
      "        1.37300000e+03, 2.07537900e+06, 1.52000000e+02, 2.37942663e+06,\n",
      "        9.97025744e+05, 8.82717795e+05, 2.36783900e+06, 1.53000000e+02,\n",
      "        1.48556783e-01, 4.41007182e-01, 0.00000000e+00, 0.00000000e+00,\n",
      "        3.61049986e-01, 0.00000000e+00, 9.99033816e-01, 1.56199678e-01,\n",
      "        5.00461706e+01],\n",
      "       [1.10289197e+06, 4.03950380e+04, 3.48006911e+03, 1.08661600e+06,\n",
      "        1.64000000e+03, 2.21732500e+06, 1.70000000e+02, 2.85117126e+06,\n",
      "        1.46820585e+06, 1.01482356e+06, 2.40435800e+06, 1.80000000e+02,\n",
      "        8.56564410e-03, 5.93827849e-01, 0.00000000e+00, 0.00000000e+00,\n",
      "        3.09482777e-01, 0.00000000e+00, 9.90348924e-01, 1.72791388e-01,\n",
      "        7.71049001e+01],\n",
      "       [9.88016187e+05, 4.53265951e+04, 5.00702165e+03, 9.48053000e+05,\n",
      "        9.02000000e+02, 2.27616400e+06, 1.80000000e+02, 2.37294309e+06,\n",
      "        1.42582860e+06, 9.80129547e+05, 1.92106500e+06, 1.86000000e+02,\n",
      "        1.18271801e-05, 2.79365277e-01, 6.66387192e-02, 0.00000000e+00,\n",
      "        5.36745350e-01, 7.74359855e-01, 8.04200783e-01, 1.96867213e-01,\n",
      "        6.32842261e+01]])>, <tf.Tensor: shape=(10, 1), dtype=int64, numpy=\n",
      "array([[0],\n",
      "       [0],\n",
      "       [0],\n",
      "       [0],\n",
      "       [0],\n",
      "       [0],\n",
      "       [0],\n",
      "       [0],\n",
      "       [1],\n",
      "       [0]], dtype=int64)>)\n"
     ]
    }
   ],
   "source": [
    "for element in clients_batched['client_1']:\n",
    "    print (element)"
   ]
  },
  {
   "cell_type": "code",
   "execution_count": 143,
   "id": "4bb84a07",
   "metadata": {},
   "outputs": [],
   "source": [
    "#process and batch the test set  \n",
    "test_batched = tf.data.Dataset.from_tensor_slices((X_test, y_test)).batch(len(y_test))"
   ]
  },
  {
   "cell_type": "code",
   "execution_count": 144,
   "id": "c8b0d501",
   "metadata": {},
   "outputs": [
    {
     "name": "stdout",
     "output_type": "stream",
     "text": [
      "(<tf.Tensor: shape=(8, 21), dtype=float64, numpy=\n",
      "array([[1.05801391e+06, 7.28335484e+04, 1.12204081e+04, 1.63534700e+06,\n",
      "        1.95500000e+03, 2.21243100e+06, 1.74000000e+02, 2.82949724e+06,\n",
      "        2.02798494e+06, 1.40344378e+06, 2.91307000e+06, 2.28000000e+02,\n",
      "        4.04376639e-02, 5.22095791e-01, 0.00000000e+00, 0.00000000e+00,\n",
      "        3.39312248e-01, 0.00000000e+00, 9.86387435e-01, 3.77225131e-01,\n",
      "        7.76116026e+01],\n",
      "       [1.26311809e+06, 3.97224432e+04, 1.13860736e+04, 1.15428400e+06,\n",
      "        2.26000000e+03, 2.40723400e+06, 2.17000000e+02, 3.22831497e+06,\n",
      "        1.60486187e+06, 1.05054258e+06, 2.99284800e+06, 3.01000000e+02,\n",
      "        4.53994089e-06, 3.09391634e-01, 1.39035775e-01, 2.31726292e-02,\n",
      "        7.24522838e-01, 6.59489108e-01, 5.93448508e-01, 2.26834193e-01,\n",
      "        6.74015530e+01],\n",
      "       [9.35714745e+05, 3.01746823e+04, 3.31884205e+03, 3.61188000e+05,\n",
      "        9.02000000e+02, 5.98908000e+05, 4.60000000e+01, 1.86411052e+06,\n",
      "        4.91308218e+05, 5.54492256e+05, 9.77594000e+05, 8.50000000e+01,\n",
      "        6.31375411e-04, 2.02609893e-01, 1.76754285e-01, 1.56025220e-03,\n",
      "        6.39859206e-01, 5.82424949e-01, 5.25160913e-01, 1.30193095e-01,\n",
      "        3.44788983e+02],\n",
      "       [1.14093835e+06, 4.73638681e+04, 7.18891291e+03, 1.18383900e+06,\n",
      "        2.55500000e+03, 1.99162200e+06, 2.00000000e+02, 3.24177563e+06,\n",
      "        1.83175634e+06, 9.40123292e+05, 1.62313100e+06, 2.08000000e+02,\n",
      "        1.34398906e-01, 4.58102046e-01, 0.00000000e+00, 0.00000000e+00,\n",
      "        3.57623460e-01, 0.00000000e+00, 9.45039258e-01, 1.04687128e-01,\n",
      "        4.86018641e+02],\n",
      "       [4.66487642e+05, 5.48992136e+04, 4.73249799e+04, 3.58541000e+05,\n",
      "        7.78000000e+02, 2.18926100e+06, 2.09000000e+02, 2.98271769e+06,\n",
      "        8.56220421e+05, 4.40848944e+05, 2.94987600e+06, 3.16000000e+02,\n",
      "        5.27798382e-04, 5.33908259e-01, 0.00000000e+00, 0.00000000e+00,\n",
      "        3.35044120e-01, 0.00000000e+00, 8.72586104e-01, 2.59406729e-01,\n",
      "        7.20831691e+01],\n",
      "       [1.21407917e+06, 7.37329487e+04, 1.70554359e+03, 1.26014900e+06,\n",
      "        1.48300000e+03, 2.12975600e+06, 1.87000000e+02, 3.21768637e+06,\n",
      "        1.78891723e+06, 1.10496720e+06, 1.61305700e+06, 1.56000000e+02,\n",
      "        9.36157205e-04, 6.94717261e-01, 8.42209136e-04, 0.00000000e+00,\n",
      "        2.59013400e-01, 3.73677347e-01, 6.67776601e-01, 1.51203269e-01,\n",
      "        1.93611207e+02],\n",
      "       [1.08256759e+06, 4.39604315e+04, 1.09577788e+04, 7.31060000e+05,\n",
      "        1.42400000e+03, 1.38167900e+06, 1.07000000e+02, 2.62838105e+06,\n",
      "        9.22883881e+05, 9.81345001e+05, 1.81763300e+06, 1.37000000e+02,\n",
      "        1.50279339e-01, 3.76282980e-01, 3.78914330e-03, 0.00000000e+00,\n",
      "        3.88910987e-01, 5.61079953e-01, 8.88673498e-01, 1.52035447e-01,\n",
      "        1.25989223e+03],\n",
      "       [1.10274587e+06, 7.04420368e+04, 8.42258835e+03, 1.93336400e+06,\n",
      "        2.10700000e+03, 2.36693500e+06, 1.91000000e+02, 2.62996158e+06,\n",
      "        2.45014371e+06, 2.07534315e+06, 3.16772700e+06, 2.36000000e+02,\n",
      "        1.07776941e+00, 4.08331072e-01, 0.00000000e+00, 0.00000000e+00,\n",
      "        3.65732742e-01, 0.00000000e+00, 8.92903561e-01, 2.66961269e-01,\n",
      "        4.26939944e+03]])>, <tf.Tensor: shape=(8, 1), dtype=int64, numpy=\n",
      "array([[0],\n",
      "       [0],\n",
      "       [1],\n",
      "       [0],\n",
      "       [1],\n",
      "       [0],\n",
      "       [0],\n",
      "       [1]], dtype=int64)>)\n"
     ]
    }
   ],
   "source": [
    "for element in test_batched:\n",
    "    print (element)"
   ]
  },
  {
   "cell_type": "markdown",
   "id": "039bba31-0761-4e29-a2e5-27f35e83438e",
   "metadata": {
    "id": "039bba31-0761-4e29-a2e5-27f35e83438e"
   },
   "source": [
    "## 3 Layer MLP (multi-layer perception) model"
   ]
  },
  {
   "cell_type": "code",
   "execution_count": 145,
   "id": "7cce1670-5c73-4240-8b92-50f18f0136fa",
   "metadata": {
    "id": "7cce1670-5c73-4240-8b92-50f18f0136fa"
   },
   "outputs": [],
   "source": [
    "class SimpleMLP:\n",
    "    @staticmethod\n",
    "    def build(shape, classes):\n",
    "        model = Sequential()\n",
    "        model.add(Dense(200, input_shape=(shape,)))\n",
    "        model.add(Activation(\"relu\"))\n",
    "        model.add(Dense(200))\n",
    "        model.add(Activation(\"relu\"))\n",
    "        model.add(Dense(classes))\n",
    "        model.add(Activation(\"softmax\"))\n",
    "        return model"
   ]
  },
  {
   "cell_type": "markdown",
   "id": "736c1185-a4c7-4a54-a6b5-a2dabfff585b",
   "metadata": {
    "id": "736c1185-a4c7-4a54-a6b5-a2dabfff585b"
   },
   "source": [
    "## Declearing model optimizer, loss function and a metric"
   ]
  },
  {
   "cell_type": "code",
   "execution_count": 146,
   "id": "992f9917-d267-45d7-b56f-4875459d2e7e",
   "metadata": {
    "id": "992f9917-d267-45d7-b56f-4875459d2e7e"
   },
   "outputs": [],
   "source": [
    "#Learning Rate\n",
    "lr = 0.01 \n",
    "\n",
    "# number global epochs (aggregations)\n",
    "comms_round = 10\n",
    "\n",
    "#Loss Function\n",
    "loss='categorical_crossentropy'\n",
    "\n",
    "#Evaluation Metric\n",
    "metrics = ['accuracy']\n",
    "\n",
    "#Model optimization using SGD (Stochastic Gradient Descent)\n",
    "optimizer = SGD(learning_rate=lr, decay=lr / comms_round, momentum=0.9)              "
   ]
  },
  {
   "cell_type": "markdown",
   "id": "5caeee68-a8bd-4550-ac36-318544546770",
   "metadata": {
    "id": "5caeee68-a8bd-4550-ac36-318544546770"
   },
   "source": [
    "# Model Aggregation (Federated Averaging) and Testing "
   ]
  },
  {
   "cell_type": "code",
   "execution_count": 147,
   "id": "a014aa44",
   "metadata": {},
   "outputs": [],
   "source": [
    "shape = 21 # Num of Feats\n",
    "classes = 1 # Time series therefore is 1"
   ]
  },
  {
   "cell_type": "code",
   "execution_count": 150,
   "id": "6ac02808-0dc4-4a98-94fa-63b1c1553685",
   "metadata": {
    "id": "6ac02808-0dc4-4a98-94fa-63b1c1553685",
    "outputId": "988d0b82-5bf5-4609-dbba-3744a0633d16",
    "scrolled": false
   },
   "outputs": [
    {
     "name": "stdout",
     "output_type": "stream",
     "text": [
      "tf.Tensor(\n",
      "[[0]\n",
      " [0]\n",
      " [1]\n",
      " [0]\n",
      " [1]\n",
      " [0]\n",
      " [0]\n",
      " [1]], shape=(8, 1), dtype=int64)\n",
      "comm_round: 0 | global_acc: 100.000% | global_loss: nan\n",
      "tf.Tensor(\n",
      "[[0]\n",
      " [0]\n",
      " [1]\n",
      " [0]\n",
      " [1]\n",
      " [0]\n",
      " [0]\n",
      " [1]], shape=(8, 1), dtype=int64)\n",
      "comm_round: 1 | global_acc: 100.000% | global_loss: nan\n",
      "tf.Tensor(\n",
      "[[0]\n",
      " [0]\n",
      " [1]\n",
      " [0]\n",
      " [1]\n",
      " [0]\n",
      " [0]\n",
      " [1]], shape=(8, 1), dtype=int64)\n",
      "comm_round: 2 | global_acc: 100.000% | global_loss: nan\n",
      "tf.Tensor(\n",
      "[[0]\n",
      " [0]\n",
      " [1]\n",
      " [0]\n",
      " [1]\n",
      " [0]\n",
      " [0]\n",
      " [1]], shape=(8, 1), dtype=int64)\n",
      "comm_round: 3 | global_acc: 100.000% | global_loss: nan\n",
      "tf.Tensor(\n",
      "[[0]\n",
      " [0]\n",
      " [1]\n",
      " [0]\n",
      " [1]\n",
      " [0]\n",
      " [0]\n",
      " [1]], shape=(8, 1), dtype=int64)\n",
      "comm_round: 4 | global_acc: 100.000% | global_loss: nan\n",
      "tf.Tensor(\n",
      "[[0]\n",
      " [0]\n",
      " [1]\n",
      " [0]\n",
      " [1]\n",
      " [0]\n",
      " [0]\n",
      " [1]], shape=(8, 1), dtype=int64)\n",
      "comm_round: 5 | global_acc: 100.000% | global_loss: nan\n",
      "tf.Tensor(\n",
      "[[0]\n",
      " [0]\n",
      " [1]\n",
      " [0]\n",
      " [1]\n",
      " [0]\n",
      " [0]\n",
      " [1]], shape=(8, 1), dtype=int64)\n",
      "comm_round: 6 | global_acc: 100.000% | global_loss: nan\n",
      "tf.Tensor(\n",
      "[[0]\n",
      " [0]\n",
      " [1]\n",
      " [0]\n",
      " [1]\n",
      " [0]\n",
      " [0]\n",
      " [1]], shape=(8, 1), dtype=int64)\n",
      "comm_round: 7 | global_acc: 100.000% | global_loss: nan\n",
      "tf.Tensor(\n",
      "[[0]\n",
      " [0]\n",
      " [1]\n",
      " [0]\n",
      " [1]\n",
      " [0]\n",
      " [0]\n",
      " [1]], shape=(8, 1), dtype=int64)\n",
      "comm_round: 8 | global_acc: 100.000% | global_loss: nan\n",
      "tf.Tensor(\n",
      "[[0]\n",
      " [0]\n",
      " [1]\n",
      " [0]\n",
      " [1]\n",
      " [0]\n",
      " [0]\n",
      " [1]], shape=(8, 1), dtype=int64)\n",
      "comm_round: 9 | global_acc: 100.000% | global_loss: nan\n"
     ]
    }
   ],
   "source": [
    "#initialize global model\n",
    "smlp_global = SimpleMLP()\n",
    "global_model = smlp_global.build(shape, classes)\n",
    "        \n",
    "#commence global training loop\n",
    "for comm_round in range(comms_round):\n",
    "            \n",
    "    # get the global model's weights - will serve as the initial weights for all local models\n",
    "    global_weights = global_model.get_weights()\n",
    "    \n",
    "    #initial list to collect local model weights after scalling\n",
    "    scaled_local_weight_list = list()\n",
    "\n",
    "    #randomize client data - using keys\n",
    "    client_names= list(clients_batched.keys())\n",
    "    random.shuffle(client_names)\n",
    "    \n",
    "    #loop through each client and create new local model\n",
    "    for client in client_names:\n",
    "        smlp_local = SimpleMLP()\n",
    "        local_model = smlp_local.build(shape, classes)\n",
    "        local_model.compile(loss=loss, \n",
    "                      optimizer=optimizer, \n",
    "                      metrics=metrics)\n",
    "        \n",
    "        #set local model weight to the weight of the global model\n",
    "        local_model.set_weights(global_weights)\n",
    "        \n",
    "        #fit local model with client's data\n",
    "        local_model.fit(clients_batched[client], epochs=1, verbose=0)\n",
    "        \n",
    "        #scale the model weights and add to list\n",
    "        scaling_factor = weight_scalling_factor(clients_batched, client)\n",
    "        scaled_weights = scale_model_weights(local_model.get_weights(), scaling_factor)\n",
    "        scaled_local_weight_list.append(scaled_weights)\n",
    "        \n",
    "        #clear session to free memory after each communication round\n",
    "        K.clear_session()\n",
    "        \n",
    "    #to get the average over all the local model, we simply take the sum of the scaled weights\n",
    "    average_weights = sum_scaled_weights(scaled_local_weight_list)\n",
    "    \n",
    "    #update global model \n",
    "    global_model.set_weights(average_weights)\n",
    "\n",
    "    #test global model and print out metrics after each communications round\n",
    "    for(X_test, Y_test) in test_batched:\n",
    "        print(Y_test)\n",
    "        global_acc, global_loss = test_model(X_test, Y_test, global_model, comm_round)\n"
   ]
  },
  {
   "cell_type": "code",
   "execution_count": null,
   "id": "5d3f27bc",
   "metadata": {},
   "outputs": [],
   "source": []
  },
  {
   "cell_type": "markdown",
   "id": "a5d9e1f6-9784-4380-8ee9-aed1300081b7",
   "metadata": {
    "id": "a5d9e1f6-9784-4380-8ee9-aed1300081b7"
   },
   "source": [
    "# SGD Comparison to Federated Learning Accuracy"
   ]
  },
  {
   "cell_type": "code",
   "execution_count": null,
   "id": "62e878d5-a06d-4e9b-9c35-de3409366f18",
   "metadata": {
    "id": "62e878d5-a06d-4e9b-9c35-de3409366f18",
    "outputId": "bf165c5f-7b11-4abe-d128-04e26b728da9"
   },
   "outputs": [],
   "source": [
    "#Creating SGD Dataset with all hyperparameters equal to that of FL, however with a batch size of 320 as there are not multiple independent models or multiple clients to have said models\n",
    "SGD_dataset = tf.data.Dataset.from_tensor_slices((X_train, y_train)).shuffle(len(y_train)).batch(320) \n",
    "\n",
    "#Initializing Model\n",
    "smlp_SGD = SimpleMLP()\n",
    "\n",
    "#Generating model with a shape of 784, and 10 classes\n",
    "SGD_model = smlp_SGD.build(shape, classes) \n",
    "\n",
    "#Compilation of Model using model paramaters\n",
    "SGD_model.compile(loss=loss, optimizer=optimizer, metrics=metrics)\n",
    "\n",
    "# fit the SGD training data to model\n",
    "_ = SGD_model.fit(SGD_dataset, epochs=100, verbose=0)\n",
    "\n",
    "#test the SGD global model and print out metrics\n",
    "for(X_test, Y_test) in test_batched:\n",
    "        SGD_acc, SGD_loss = test_model(X_test, Y_test, SGD_model, 1)"
   ]
  },
  {
   "cell_type": "code",
   "execution_count": null,
   "id": "00a683af-063d-442a-a3be-4d2b4182b053",
   "metadata": {
    "id": "00a683af-063d-442a-a3be-4d2b4182b053"
   },
   "outputs": [],
   "source": []
  }
 ],
 "metadata": {
  "colab": {
   "name": "FLExample_Implementation_Martin_Ivanov.ipynb",
   "provenance": []
  },
  "kernelspec": {
   "display_name": "Python 3",
   "language": "python",
   "name": "python3"
  },
  "language_info": {
   "codemirror_mode": {
    "name": "ipython",
    "version": 3
   },
   "file_extension": ".py",
   "mimetype": "text/x-python",
   "name": "python",
   "nbconvert_exporter": "python",
   "pygments_lexer": "ipython3",
   "version": "3.8.8"
  }
 },
 "nbformat": 4,
 "nbformat_minor": 5
}
