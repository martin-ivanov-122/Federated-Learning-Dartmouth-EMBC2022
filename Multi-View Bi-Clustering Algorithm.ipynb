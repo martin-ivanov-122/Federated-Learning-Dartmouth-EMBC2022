{
 "cells": [
  {
   "cell_type": "markdown",
   "id": "d14b60c5",
   "metadata": {},
   "source": [
    "# MVBC Alg"
   ]
  },
  {
   "cell_type": "markdown",
   "id": "29440dd5",
   "metadata": {},
   "source": [
    "## Functions and Libraries\n"
   ]
  },
  {
   "cell_type": "code",
   "execution_count": 7,
   "id": "de969fac",
   "metadata": {},
   "outputs": [],
   "source": [
    "import numpy as np\n",
    "import matplotlib.pyplot as plt\n",
    "import pandas as pd\n",
    "from scipy.io import loadmat"
   ]
  },
  {
   "cell_type": "code",
   "execution_count": null,
   "id": "aa397d94",
   "metadata": {},
   "outputs": [],
   "source": [
    "def normalization (x):\n",
    "    return ((x-min(x))/(max(x)-min(x)))\n",
    "\n",
    "def objective (M,z,U,V):\n",
    "    \n",
    "    obj = 0;\n",
    "    \n",
    "    for i in range (len (M)):\n",
    "        mat =  M{i} - (U(:, i) .* z) * V{i}';            \n",
    "        obj = obj + trace(mat' * mat)\n",
    "                          "
   ]
  },
  {
   "cell_type": "code",
   "execution_count": 56,
   "id": "765d66b3",
   "metadata": {},
   "outputs": [],
   "source": [
    "# What is set-up in the main fct of the MATLAB file\n",
    "\n",
    "path = '/Users/binhnguyen/Documents/MATLAB/1. EMBC 2021/Project EMBC/mvscpalm'\n",
    "filename = '/M.mat'\n",
    "signal = loadmat(path+filename)\n",
    "M = signal['M'][0]\n",
    "\n",
    "'''\n",
    "signal['M'][0] # M Var\n",
    "signal['M'][0][0] # M Var First Cell\n",
    "signal['M'][0][0][0] # M Var First Cell First Row\n",
    "'''\n",
    "\n",
    "sz2 = 7\n",
    "sv2 = np.array([[5, 5, 5]]).T\n",
    "ini_v2 = 1\n"
   ]
  },
  {
   "cell_type": "code",
   "execution_count": 138,
   "id": "f96c6de3",
   "metadata": {},
   "outputs": [],
   "source": [
    "# Inside the mvlrrl0 function\n",
    "\n",
    "# line 1-50\n",
    "\n",
    "maxIter = 1e03\n",
    "threshold = 1e-05\n",
    "\n",
    "M[0]\n",
    "\n",
    "n = M[0].shape[0]\n",
    "nView = len(M)\n",
    "\n",
    "d = np.zeros((nView, 1))\n",
    "z = np.ones((n,1)); # initialize z with all ones\n",
    "U = np.ones((n, nView)); # initialize u with all ones\n",
    "V = np.full([nView,1], None) \n",
    "# V = [None]*nView\n",
    "\n",
    "gamma_z = 1.2;\n",
    "gamma_u = 1.2;\n",
    "gamma_v = 1.2;\n",
    "\n"
   ]
  },
  {
   "cell_type": "code",
   "execution_count": 139,
   "id": "057826a7",
   "metadata": {},
   "outputs": [],
   "source": [
    "# line 51-60\n",
    "\n",
    "for iView in range (nView):\n",
    "    d[iView] = M[iView].shape [1]\n",
    "    V[iView] = [np.ones ((int(d[iView]),1))]\n"
   ]
  },
  {
   "cell_type": "code",
   "execution_count": 150,
   "id": "fe6d2ef4",
   "metadata": {},
   "outputs": [],
   "source": [
    "# line 62-\n",
    "\n",
    "# Arguments > 3\n",
    "# Initialize v1 with all zeros except 1 for the seed feature\n",
    "\n",
    "V[0][0][0:len(V[0][0])] = 0\n",
    "V[0][0][0] = 1"
   ]
  },
  {
   "cell_type": "markdown",
   "id": "49690526",
   "metadata": {},
   "source": [
    "# TESTING STILL\n",
    "FOLLOW TEST CASE BELOW FOR FUNCTION UPDATE_U"
   ]
  },
  {
   "cell_type": "code",
   "execution_count": 168,
   "id": "4d501e6f",
   "metadata": {},
   "outputs": [],
   "source": [
    "M = M[0]\n",
    "z\n",
    "u =  U[:,0]\n",
    "v = V[0]\n",
    "gamma = gamma_u\n",
    "\n",
    "# grad = ((z .* u) * v.T - M) * v .* z"
   ]
  },
  {
   "cell_type": "code",
   "execution_count": 167,
   "id": "210a6cae",
   "metadata": {},
   "outputs": [
    {
     "data": {
      "text/plain": [
       "1.2"
      ]
     },
     "execution_count": 167,
     "metadata": {},
     "output_type": "execute_result"
    }
   ],
   "source": [
    "\n",
    "def update_u(M, z, u, v, gamma):\n",
    "    # Given z, v, update u\n",
    "    grad = np.matmul(((z.T*u*v[0]).T - M),v[0]) * z\n",
    "#     tmp = v.T * v * z .* z;\n",
    "#     lip = sqrt(tmp.T * tmp)\n",
    "#     if (lip == 0):\n",
    "#         u = zeros(length(u), 1)\n",
    "#         return u\n",
    "#     u = u - 1 / (gamma * lip) * grad;\n",
    "#     return u\n"
   ]
  },
  {
   "cell_type": "code",
   "execution_count": null,
   "id": "99567f1c",
   "metadata": {},
   "outputs": [],
   "source": []
  }
 ],
 "metadata": {
  "kernelspec": {
   "display_name": "Python 3",
   "language": "python",
   "name": "python3"
  },
  "language_info": {
   "codemirror_mode": {
    "name": "ipython",
    "version": 3
   },
   "file_extension": ".py",
   "mimetype": "text/x-python",
   "name": "python",
   "nbconvert_exporter": "python",
   "pygments_lexer": "ipython3",
   "version": "3.8.8"
  }
 },
 "nbformat": 4,
 "nbformat_minor": 5
}
