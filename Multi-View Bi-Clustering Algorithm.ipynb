{
 "cells": [
  {
   "cell_type": "markdown",
   "id": "d14b60c5",
   "metadata": {},
   "source": [
    "# MVBC Alg"
   ]
  },
  {
   "cell_type": "markdown",
   "id": "29440dd5",
   "metadata": {},
   "source": [
    "## Functions and Libraries\n"
   ]
  },
  {
   "cell_type": "code",
   "execution_count": 1,
   "id": "de969fac",
   "metadata": {},
   "outputs": [],
   "source": [
    "import numpy as np\n",
    "import matplotlib.pyplot as plt\n",
    "import pandas as pd\n",
    "from scipy.io import loadmat\n",
    "import copy"
   ]
  },
  {
   "cell_type": "markdown",
   "id": "295ece2a",
   "metadata": {},
   "source": [
    "# Functions in MVBC\n",
    "\n",
    "Note: \n",
    "\n",
    "- matmul is * in MATLAB\n",
    "- \\* is .* in MATLAB"
   ]
  },
  {
   "cell_type": "markdown",
   "id": "ee8c1e0f",
   "metadata": {},
   "source": [
    "Something wrong in the update_u function double check"
   ]
  },
  {
   "cell_type": "code",
   "execution_count": 2,
   "id": "210a6cae",
   "metadata": {},
   "outputs": [],
   "source": [
    "################ For testing purposes, use the following metrics: ################\n",
    "# M = M[0]\n",
    "# z\n",
    "# u =  U[:,0]\n",
    "# v = V[0]\n",
    "# gamma = gamma_u\n",
    "\n",
    "\n",
    "################################################################################\n",
    "\n",
    "def update_u(M, z, u, v, gamma):\n",
    "    # Given z, v, update u\n",
    "    grad = np.matmul(((z.T*u*v[0]).T - M),v[0]) * z\n",
    "\n",
    "    # tmp\n",
    "    h1 = np.matmul (np.transpose (v[0]), v[0])\n",
    "    h2 = np.matmul (z,h1)\n",
    "    tmp = h2 * z\n",
    "\n",
    "    # lip\n",
    "    lip = np.sqrt (np.matmul (np.transpose (tmp), tmp))\n",
    "\n",
    "    if (lip == 0):\n",
    "        u = np.zeros ((len (u),1)).shape\n",
    "    \n",
    "    # u \n",
    "    output = []\n",
    "    output = u-np.transpose ((1/(gamma*lip) * grad))\n",
    "\n",
    "    return output\n",
    "\n"
   ]
  },
  {
   "cell_type": "code",
   "execution_count": 3,
   "id": "db95f1fa",
   "metadata": {},
   "outputs": [],
   "source": [
    "################ For testing purposes, use the following metrics: ################\n",
    "\n",
    "# iView = 1\n",
    "# M = M[iView]\n",
    "# z\n",
    "# u = U[:, iView]\n",
    "# v = V[iView]\n",
    "# gamma = gamma_v\n",
    "# s = sv[iView][0]\n",
    "\n",
    "################################################################################\n",
    "\n",
    "def update_v(M, z, u, v, gamma, s):\n",
    "    # grad\n",
    "    h1 = z.T*u\n",
    "    h2 = h1.T * v[0].T    \n",
    "    h3 = h2 - M\n",
    "    p1 = (z.T*u).T\n",
    "    grad = np.matmul (h3.T , p1)\n",
    "\n",
    "    # tmp\n",
    "    tmp = (z.T*u).T\n",
    "    \n",
    "    # lip\n",
    "    lip = np.matmul(tmp.T, tmp)\n",
    "    \n",
    "    \n",
    "    if (lip == 0):\n",
    "        np.zeros ((len(v[0]),1))\n",
    "        # return\n",
    "\n",
    "    # v\n",
    "    output = []\n",
    "    output = v[0]-1/(lip*gamma)*grad\n",
    "    \n",
    "    print (output)\n",
    "    output = map (output,s)\n",
    "    \n",
    "    return output\n",
    "    "
   ]
  },
  {
   "cell_type": "code",
   "execution_count": 4,
   "id": "2583d264",
   "metadata": {},
   "outputs": [],
   "source": [
    "################ For testing purposes, use the following metrics: ################\n",
    "\n",
    "# Map u to its closest that has <= s none zeros \n",
    "# u = U[:,0]\n",
    "# s = sz1\n",
    "\n",
    "################################################################################\n",
    "\n",
    "def map_python(u, s):\n",
    "\n",
    "    u_a = abs(u)\n",
    "    h1 = np.argsort (u_a, axis =0)\n",
    "    I = h1[::-1]\n",
    "    v = u_a[I]\n",
    "    \n",
    "    output = []\n",
    "    output = copy.copy(u)\n",
    "    output[I[s:len(I)]]=0\n",
    "    \n",
    "    return output\n",
    "\n"
   ]
  },
  {
   "cell_type": "code",
   "execution_count": 5,
   "id": "aa397d94",
   "metadata": {},
   "outputs": [],
   "source": [
    "# NORMALIZATION\n",
    "\n",
    "def normalization (x):\n",
    "    return ((x-min(x))/(max(x)-min(x)))\n",
    "\n",
    "# def objective (M,z,U,V):\n",
    "    \n",
    "#     obj = 0;\n",
    "    \n",
    "#     for i in range (len (M)):\n",
    "#         mat =  M{i} - (U(:, i) .* z) * V{i}';            \n",
    "#         obj = obj + trace(mat' * mat)\n",
    "                          "
   ]
  },
  {
   "cell_type": "markdown",
   "id": "9782ef64",
   "metadata": {},
   "source": [
    "# Code"
   ]
  },
  {
   "cell_type": "code",
   "execution_count": 6,
   "id": "765d66b3",
   "metadata": {},
   "outputs": [],
   "source": [
    "# What is set-up in the main fct of the MATLAB file\n",
    "\n",
    "path = '/Users/binhnguyen/Documents/MATLAB/1. EMBC 2021/Project EMBC/mvscpalm'\n",
    "filename = '/M.mat'\n",
    "signal = loadmat(path+filename)\n",
    "M = signal['M'][0]\n",
    "\n",
    "'''\n",
    "signal['M'][0] # M Var\n",
    "signal['M'][0][0] # M Var First Cell\n",
    "signal['M'][0][0][0] # M Var First Cell First Row\n",
    "'''\n",
    "\n",
    "sz1 = 9\n",
    "sv1 = np.array([[5, 5, 5]]).T\n",
    "ini_v1 = 1\n",
    "\n",
    "sz2 = 7\n",
    "sv2 = np.array([[5, 5, 5]]).T\n",
    "ini_v2 = 1\n"
   ]
  },
  {
   "cell_type": "markdown",
   "id": "7e14ed05",
   "metadata": {},
   "source": [
    "# mvlrrl0"
   ]
  },
  {
   "cell_type": "code",
   "execution_count": 7,
   "id": "f96c6de3",
   "metadata": {},
   "outputs": [],
   "source": [
    "# Inside the mvlrrl0 function\n",
    "sz = sz1\n",
    "sv = sv1\n",
    "iSeedV1 = ini_v1\n",
    "\n",
    "\n",
    "# line 1-50\n",
    "\n",
    "maxIter = 1e03\n",
    "threshold = 1e-05\n",
    "\n",
    "n = M[0].shape[0]\n",
    "nView = len(M)\n",
    "\n",
    "d = np.zeros((nView, 1))\n",
    "z = np.ones((n,1)); # initialize z with all ones\n",
    "U = np.ones((n, nView)); # initialize u with all ones\n",
    "V = np.full([nView,1], None) \n",
    "# V = [None]*nView\n",
    "\n",
    "gamma_z = 1.2;\n",
    "gamma_u = 1.2;\n",
    "gamma_v = 1.2;\n",
    "\n"
   ]
  },
  {
   "cell_type": "code",
   "execution_count": 8,
   "id": "057826a7",
   "metadata": {},
   "outputs": [],
   "source": [
    "# line 51-60\n",
    "\n",
    "for iView in range (nView):\n",
    "    d[iView] = M[iView].shape [1]\n",
    "    V[iView] = [np.ones ((int(d[iView]),1))]\n"
   ]
  },
  {
   "cell_type": "code",
   "execution_count": 9,
   "id": "fe6d2ef4",
   "metadata": {},
   "outputs": [],
   "source": [
    "# line 62-68\n",
    "\n",
    "# Arguments > 3\n",
    "# Initialize v1 with all zeros except 1 for the seed feature\n",
    "\n",
    "V[0][0][0:len(V[0][0])] = 0\n",
    "V[0][0][0] = 1\n"
   ]
  },
  {
   "cell_type": "code",
   "execution_count": 10,
   "id": "12674a60",
   "metadata": {},
   "outputs": [],
   "source": [
    "# line 70-74\n",
    "\n",
    "# Did not do update v because we expect 3 arguments\n",
    "\n",
    "U[:,0] = update_u(M[0], z, U[:,0], V[0], gamma_u)\n",
    "\n",
    "tmp = map_python (U[:,0], sz)\n",
    "\n",
    "z[tmp == 0] = 0"
   ]
  },
  {
   "cell_type": "code",
   "execution_count": null,
   "id": "8de20956",
   "metadata": {},
   "outputs": [],
   "source": [
    "iView = 1\n",
    "V[iView] = update_v (M[iView], z, U[:, iView], V[iView], gamma_v, sv[iView][0])\n",
    "# U[:, iView] = update_u(M[iView], z, U[:, iView], V[iView], gamma_u)"
   ]
  },
  {
   "cell_type": "code",
   "execution_count": 23,
   "id": "f028e89a",
   "metadata": {},
   "outputs": [
    {
     "name": "stdout",
     "output_type": "stream",
     "text": [
      "[[0.2110679 ]\n",
      " [0.29115574]\n",
      " [0.29062378]\n",
      " [0.24206656]\n",
      " [0.0204879 ]\n",
      " [0.04793654]\n",
      " [0.30408002]\n",
      " [0.25573076]\n",
      " [0.19826319]]\n"
     ]
    },
    {
     "ename": "TypeError",
     "evalue": "'numpy.int64' object is not iterable",
     "output_type": "error",
     "traceback": [
      "\u001b[0;31m---------------------------------------------------------------------------\u001b[0m",
      "\u001b[0;31mTypeError\u001b[0m                                 Traceback (most recent call last)",
      "\u001b[0;32m/var/folders/n3/12hdjjbj011944mqs40_6ypr0000gn/T/ipykernel_38498/903454275.py\u001b[0m in \u001b[0;36m<module>\u001b[0;34m\u001b[0m\n\u001b[0;32m----> 1\u001b[0;31m \u001b[0mupdate_v\u001b[0m \u001b[0;34m(\u001b[0m\u001b[0mM\u001b[0m\u001b[0;34m[\u001b[0m\u001b[0miView\u001b[0m\u001b[0;34m]\u001b[0m\u001b[0;34m,\u001b[0m \u001b[0mz\u001b[0m\u001b[0;34m,\u001b[0m \u001b[0mU\u001b[0m\u001b[0;34m[\u001b[0m\u001b[0;34m:\u001b[0m\u001b[0;34m,\u001b[0m \u001b[0miView\u001b[0m\u001b[0;34m]\u001b[0m\u001b[0;34m,\u001b[0m \u001b[0mV\u001b[0m\u001b[0;34m[\u001b[0m\u001b[0miView\u001b[0m\u001b[0;34m]\u001b[0m\u001b[0;34m,\u001b[0m \u001b[0mgamma_v\u001b[0m\u001b[0;34m,\u001b[0m \u001b[0msv\u001b[0m\u001b[0;34m[\u001b[0m\u001b[0miView\u001b[0m\u001b[0;34m]\u001b[0m\u001b[0;34m[\u001b[0m\u001b[0;36m0\u001b[0m\u001b[0;34m]\u001b[0m\u001b[0;34m)\u001b[0m\u001b[0;34m\u001b[0m\u001b[0;34m\u001b[0m\u001b[0m\n\u001b[0m",
      "\u001b[0;32m/var/folders/n3/12hdjjbj011944mqs40_6ypr0000gn/T/ipykernel_38498/3253672144.py\u001b[0m in \u001b[0;36mupdate_v\u001b[0;34m(M, z, u, v, gamma, s)\u001b[0m\n\u001b[1;32m     35\u001b[0m \u001b[0;34m\u001b[0m\u001b[0m\n\u001b[1;32m     36\u001b[0m     \u001b[0mprint\u001b[0m \u001b[0;34m(\u001b[0m\u001b[0moutput\u001b[0m\u001b[0;34m)\u001b[0m\u001b[0;34m\u001b[0m\u001b[0;34m\u001b[0m\u001b[0m\n\u001b[0;32m---> 37\u001b[0;31m     \u001b[0moutput\u001b[0m \u001b[0;34m=\u001b[0m \u001b[0mmap\u001b[0m \u001b[0;34m(\u001b[0m\u001b[0moutput\u001b[0m\u001b[0;34m,\u001b[0m\u001b[0ms\u001b[0m\u001b[0;34m)\u001b[0m\u001b[0;34m\u001b[0m\u001b[0;34m\u001b[0m\u001b[0m\n\u001b[0m\u001b[1;32m     38\u001b[0m \u001b[0;34m\u001b[0m\u001b[0m\n\u001b[1;32m     39\u001b[0m     \u001b[0;32mreturn\u001b[0m \u001b[0moutput\u001b[0m\u001b[0;34m\u001b[0m\u001b[0;34m\u001b[0m\u001b[0m\n",
      "\u001b[0;31mTypeError\u001b[0m: 'numpy.int64' object is not iterable"
     ]
    }
   ],
   "source": [
    "update_v (M[iView], z, U[:, iView], V[iView], gamma_v, sv[iView][0])"
   ]
  },
  {
   "cell_type": "code",
   "execution_count": null,
   "id": "d1a61774",
   "metadata": {},
   "outputs": [],
   "source": [
    "# line 76 - \n",
    "\n",
    "if (nView > 1):\n",
    "    for iView in range  (1,nView):\n",
    "        V[iView] = update_v (M[iView], z, U[:, iView], V[iView], gamma_v, sv[iView])\n",
    "        U[:, iView] = update_u(M[iView], z, U[:, iView], V[iView], gamma_u)\n",
    "    \n",
    "\n",
    "\n",
    "\n",
    "\n",
    "\n",
    "\n",
    "\n",
    "\n",
    "    "
   ]
  },
  {
   "cell_type": "code",
   "execution_count": null,
   "id": "aa608d14",
   "metadata": {},
   "outputs": [],
   "source": []
  }
 ],
 "metadata": {
  "kernelspec": {
   "display_name": "Python 3 (ipykernel)",
   "language": "python",
   "name": "python3"
  },
  "language_info": {
   "codemirror_mode": {
    "name": "ipython",
    "version": 3
   },
   "file_extension": ".py",
   "mimetype": "text/x-python",
   "name": "python",
   "nbconvert_exporter": "python",
   "pygments_lexer": "ipython3",
   "version": "3.8.10"
  }
 },
 "nbformat": 4,
 "nbformat_minor": 5
}
