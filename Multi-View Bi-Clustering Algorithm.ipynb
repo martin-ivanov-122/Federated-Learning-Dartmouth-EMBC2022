{
 "cells": [
  {
   "cell_type": "markdown",
   "id": "8f579274",
   "metadata": {},
   "source": [
    "# MVBC Alg"
   ]
  },
  {
   "cell_type": "markdown",
   "id": "5f205601",
   "metadata": {},
   "source": [
    "## Functions"
   ]
  },
  {
   "cell_type": "code",
   "execution_count": 4,
   "id": "8308022f",
   "metadata": {},
   "outputs": [
    {
     "data": {
      "text/plain": [
       "array([0.        , 0.33333333, 0.66666667, 1.        ])"
      ]
     },
     "execution_count": 4,
     "metadata": {},
     "output_type": "execute_result"
    }
   ],
   "source": [
    "import numpy as np\n",
    "import matplotlib.pyplot as plt\n",
    "import numpy as np\n",
    "import pandas as pd\n",
    "from numpy import *\n",
    "import csv\n",
    "from sklearn.cluster import KMeans\n",
    "from skimage.restoration import denoise_wavelet \n",
    "import pywt\n",
    "import time\n",
    "from math import radians, cos, sin, asin, sqrt\n",
    "\n",
    "def normalization (x):\n",
    "    return ((x-min(x))/(max(x)-min(x)))\n",
    "\n"
   ]
  },
  {
   "cell_type": "code",
   "execution_count": null,
   "id": "02fd5896",
   "metadata": {},
   "outputs": [],
   "source": []
  },
  {
   "cell_type": "code",
   "execution_count": null,
   "id": "50d9a905",
   "metadata": {},
   "outputs": [],
   "source": []
  }
 ],
 "metadata": {
  "kernelspec": {
   "display_name": "Python 3 (ipykernel)",
   "language": "python",
   "name": "python3"
  },
  "language_info": {
   "codemirror_mode": {
    "name": "ipython",
    "version": 3
   },
   "file_extension": ".py",
   "mimetype": "text/x-python",
   "name": "python",
   "nbconvert_exporter": "python",
   "pygments_lexer": "ipython3",
   "version": "3.8.10"
  }
 },
 "nbformat": 4,
 "nbformat_minor": 5
}
